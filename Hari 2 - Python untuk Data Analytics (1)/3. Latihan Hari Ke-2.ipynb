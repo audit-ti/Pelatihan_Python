{
 "cells": [
  {
   "attachments": {},
   "cell_type": "markdown",
   "metadata": {},
   "source": [
    "=====================================================\n",
    "# LATIHAN HARI KE-2\n",
    "=====================================================\n",
    "\n",
    "## Latihan 1\n",
    "\n",
    "Buatlah sebuah program yang mendapatkan angka menit dari user. Kemudian program akan melakukan perhitungan dan menghasilkan keluaran berupa jam dan menit sisanya bila ada. \n",
    "\n",
    "**Contoh keluaran bila input dari user 121:<br>**\n",
    "Hours</br>\n",
    "2</br>\n",
    "Minutes</br>\n",
    "1</br>\n"
   ]
  },
  {
   "cell_type": "code",
   "execution_count": null,
   "metadata": {},
   "outputs": [],
   "source": []
  },
  {
   "attachments": {},
   "cell_type": "markdown",
   "metadata": {},
   "source": [
    "## Latihan 2\n",
    "\n",
    "Berikut adalah suatu string\n",
    "**str = ’X-DSPAM-Confidence:0.8475’**</br>\n",
    "Gunakan 'find' dan 'string slicing' untuk mengekstrak porsi dari karakter setelah tanda kolon, kemudian gunakan ubahlah menjadi data float."
   ]
  },
  {
   "attachments": {},
   "cell_type": "markdown",
   "metadata": {},
   "source": []
  },
  {
   "attachments": {},
   "cell_type": "markdown",
   "metadata": {},
   "source": [
    "## Latihan 3:\n",
    "Banyaknya hari dalam satu bulan bervariasi dari 28 hingga 31. Buatlah program yang memasukkan\n",
    "nama bulan dari user (string). Kemudian program harus melakukan perhitungan jumlah hari dalam bulan tersebut. \n",
    "Untuk bulan februari keluaran berupa string **“28 atau 29 hari”** agar berlaku juga untuk bulan kabisat."
   ]
  },
  {
   "cell_type": "code",
   "execution_count": null,
   "metadata": {},
   "outputs": [],
   "source": []
  },
  {
   "attachments": {},
   "cell_type": "markdown",
   "metadata": {},
   "source": [
    "## Latihan 4:\n",
    "\n",
    "Skala Richter \n",
    "Magnitude Descriptor\n",
    "Less than 2.0 Micro\n",
    "2.0 to less than 3.0 Very Minor\n",
    "3.0 to less than 4.0 Minor\n",
    "4.0 to less than 5.0 Light\n",
    "5.0 to less than 6.0 Moderate\n",
    "6.0 to less than 7.0 Strong\n",
    "7.0 to less than 8.0 Major\n",
    "8.0 to less than 10.0 Great\n",
    "10.0 or more Meteoric\n",
    "\n",
    "* Buatlah program yang membaca besarnya magnitude dari user dan memberikan keluaran terkait grade dari kekuatan gempa.\n",
    "* Contoh keluaran :\n",
    "  **'Gempa berskala 5,5 berkategori Moderat'**  "
   ]
  },
  {
   "cell_type": "code",
   "execution_count": null,
   "metadata": {},
   "outputs": [],
   "source": []
  },
  {
   "attachments": {},
   "cell_type": "markdown",
   "metadata": {},
   "source": [
    "## Latihan 5:\n",
    "* Buatlah script yang menerima input berupa lima digit angka dari user.</br>\n",
    "* Pisahkan angka menjadi digit indivual. Print secara terpisah dengan separator berupa tiga spasi\n",
    "* Contoh: Jika user memasukkan 42339, maka hasil print</br> \n",
    "4   2   3   3   9</br>\n",
    "* Asumsikan bahwa user selalu menginput angka dalam panjang yang tepat. \n",
    "* Use both the floor division and remainder operations to “pick off ” each digit."
   ]
  },
  {
   "cell_type": "code",
   "execution_count": null,
   "metadata": {},
   "outputs": [],
   "source": []
  },
  {
   "attachments": {},
   "cell_type": "markdown",
   "metadata": {},
   "source": [
    "## Latihan 6:\n",
    "Sebuah bilangan palindrom adalah angka yang jika dibaca dari depan kebelakang sama. Contoh:\n",
    "12321, 55555, 45554 and 11611.\n",
    "Tulislah sebuah program yang membaca lima digit bilangan bulat untuk menentukan apakah mereka palindrome atau bukan.\n",
    "[Hint: Use the // and % operators to separate the number into its digits.]"
   ]
  },
  {
   "cell_type": "code",
   "execution_count": null,
   "metadata": {},
   "outputs": [],
   "source": []
  },
  {
   "attachments": {},
   "cell_type": "markdown",
   "metadata": {},
   "source": [
    "## Latihan 7 :\n",
    "Konversi derajat celcius ke fahrenheit diatur oleh persamaan berikut :\n",
    "$F = (\\frac{9}{5}) * C + 32$\n",
    "Gunakan fungsi ini untuk memprint suatu daftar konversi temperatur dari celcius untuk range 0–100.\n",
    "Gunakan presisi 1 digit."
   ]
  },
  {
   "cell_type": "code",
   "execution_count": null,
   "metadata": {},
   "outputs": [],
   "source": []
  },
  {
   "attachments": {},
   "cell_type": "markdown",
   "metadata": {},
   "source": [
    "## Latihan 8 :\n",
    "Pak Joni memiliki rencana untuk membeli sebuah rumah, tetapi sayangnya dia tidak punya banyak uang. Dia berencana untuk membeli tetapi dengan cicilan ke bank saja. Namun, sayangnya lagi-lagi untuk membayar DP pinjaman bankpun ia tidak punya. Oleh karena itu, dia berencana untuk menabung setiap bulan agar bisa membayar DP. Tugas anda : tentukan berapa lama dia harus menabung agar dia bisa membayar cicilan rumah tersebut.\n",
    "1.\tMintalah pak joni untuk membuat harga perkiraan rumah yang dia inginkan simpan pada variable, total_cost.\n",
    "2.\tBiasanya untuk DP rumah, bank akan mensyaratkan pembayaran DP sebesar 25%, simpan pada variabel portion_down_payment = 0.25.\n",
    "3.\tTanyakan pak joni berapa uang yang sudah dia punya selama ini yang dicadangkan untuk membayar DP, simpan pada variable current_savings nilai defaultnya boleh anda set 0. \n",
    "4.\tAsumsikan bahwa pak joni menginvestasikan tabungan dengan bijak, sehingga memperoleh bunga 5 % per tahun. \n",
    "5.\tSimpan gaji tahunan pak joni dalam variabel annual_salary.\n",
    "6.\tTanyakan pak Joni persen dari gaji pak joni yang dia sisishkan untuk menabung simpan pada variable portion_saved. Variabel ini berbentuk decimal (contoh 0.1 untuk persentase 10%). \n",
    "7.\tPada akhir tiap bulan bulan, tabungan anda akan meningkat sesuai dengan besarnya investasi  ditambah dengan porsi gaji yang ditabungkan (gaji tahunan/ 12)."
   ]
  },
  {
   "cell_type": "code",
   "execution_count": null,
   "metadata": {},
   "outputs": [],
   "source": []
  },
  {
   "attachments": {},
   "cell_type": "markdown",
   "metadata": {},
   "source": [
    "## Pengayaan\n",
    "Write a program that converts a binary (base 2) number to decimal (base 10). Your\n",
    "program should begin by reading the binary number from the user as a string. Then\n",
    "it should compute the equivalent decimal number by processing each digit in the\n",
    "binary number. Finally, your program should display the equivalent decimal number\n",
    "with an appropriate message."
   ]
  },
  {
   "cell_type": "code",
   "execution_count": null,
   "metadata": {},
   "outputs": [],
   "source": []
  }
 ],
 "metadata": {
  "kernelspec": {
   "display_name": "Python 3",
   "language": "python",
   "name": "python3"
  },
  "language_info": {
   "codemirror_mode": {
    "name": "ipython",
    "version": 3
   },
   "file_extension": ".py",
   "mimetype": "text/x-python",
   "name": "python",
   "nbconvert_exporter": "python",
   "pygments_lexer": "ipython3",
   "version": "3.10.4"
  },
  "orig_nbformat": 4
 },
 "nbformat": 4,
 "nbformat_minor": 2
}
