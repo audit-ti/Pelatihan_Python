{
 "cells": [
  {
   "cell_type": "markdown",
   "id": "b1ee8836-9b46-4d9f-bc7b-1242ec79443a",
   "metadata": {
    "id": "b1ee8836-9b46-4d9f-bc7b-1242ec79443a",
    "jp-MarkdownHeadingCollapsed": true,
    "slideshow": {
     "slide_type": "slide"
    },
    "tags": []
   },
   "source": [
    "# **Python for Data Analytics**"
   ]
  },
  {
   "cell_type": "markdown",
   "id": "e2272170-cb2e-4f37-8bfc-f95493514381",
   "metadata": {
    "execution": {
     "iopub.execute_input": "2023-05-29T01:50:41.125101Z",
     "iopub.status.busy": "2023-05-29T01:50:41.123106Z",
     "iopub.status.idle": "2023-05-29T01:50:41.140060Z",
     "shell.execute_reply": "2023-05-29T01:50:41.139063Z",
     "shell.execute_reply.started": "2023-05-29T01:50:41.124104Z"
    },
    "jp-MarkdownHeadingCollapsed": true,
    "slideshow": {
     "slide_type": "slide"
    },
    "tags": []
   },
   "source": [
    "# **Pemrograman Komputer**"
   ]
  },
  {
   "cell_type": "markdown",
   "id": "777e1c06-c866-4bcd-8aba-01153e76911c",
   "metadata": {
    "slideshow": {
     "slide_type": "slide"
    }
   },
   "source": [
    "## *Machine Language*\n",
    "## *High Level Language*\n",
    "## *Interpreted Language*"
   ]
  },
  {
   "cell_type": "markdown",
   "id": "bd2d70aa-90e0-41fa-9a9b-3e4b33ae2249",
   "metadata": {
    "jp-MarkdownHeadingCollapsed": true,
    "slideshow": {
     "slide_type": "slide"
    },
    "tags": []
   },
   "source": [
    "# **Mengapa Python?**"
   ]
  },
  {
   "cell_type": "markdown",
   "id": "a5cbdb3b-cbfc-4f00-8252-7b885f5768a1",
   "metadata": {
    "slideshow": {
     "slide_type": "subslide"
    }
   },
   "source": [
    "## Sejarah Python"
   ]
  },
  {
   "cell_type": "markdown",
   "id": "a042ac16-bf7d-428b-8044-f13fa73616f8",
   "metadata": {
    "slideshow": {
     "slide_type": "slide"
    }
   },
   "source": [
    "## Apa itu Python?\n",
    "Python adalah bahasa pemrograman multifungsi dari _web development_ server-side, software _development_ , _data scicene_ hingga Internet of Things (IoT) _development_, dan merupakan bahasa pemrograman tingkat tinggi (_high-level_) dengan model interpreter. Dibuat oleh Guido van Rossum dan pertama kali dirilis pada tahun 1991, dengan filosofi desain Python antara lain menekankan sintaksis yang mudah dibaca dan dipahami (_readability_) serta kemampuan penanganan kesalahan (_exception handling_). \n",
    "\n",
    "Versi terbaru Python pada saat pembaruan bahan ajar ini adalah 3.11 yang dirilis pada 24 Oktober 2022.\n",
    "\n",
    "Lebih jauh tentang Python 3.11 dapat mengunjungi tautan berikut:\n",
    "\n",
    "[What’s New In Python 3.11](https://docs.python.org/3/whatsnew/3.11.html)"
   ]
  },
  {
   "cell_type": "markdown",
   "id": "3e431bea-e1f4-42a0-87ab-b71880faaa23",
   "metadata": {
    "slideshow": {
     "slide_type": "subslide"
    }
   },
   "source": [
    "## Mengapa harus Python?\n",
    "1. 📊 banyak digunakan dalam berbagai proyek khususnya dalam analisis data.\n",
    "2. 📖 memiliki dokumentasi yang lengkap dan komunitas yang aktif.\n",
    "3. 🎓 dikenal dengan bahasa pemrograman yang sangat mudah dipelajari, memiliki sintaksis yang rapi, dan fleksibel."
   ]
  },
  {
   "cell_type": "markdown",
   "id": "24b8f6d3-6292-40d2-88c5-ebbd4f3b11f2",
   "metadata": {
    "slideshow": {
     "slide_type": "slide"
    }
   },
   "source": [
    "## [Zen of Python](https://peps.python.org/pep-0020/#the-zen-of-python)\n",
    "Kumpulan 19 \"prinsip panduan\" untuk menulis program komputer yang memengaruhi desain bahasa pemrograman Python.\n",
    "\n",
    ">Beautiful is better than ugly.\n",
    ">\n",
    ">Explicit is better than implicit.\n",
    ">\n",
    ">Simple is better than complex.\n",
    ">\n",
    ">Complex is better than complicated.\n",
    ">\n",
    ">Flat is better than nested."
   ]
  },
  {
   "cell_type": "markdown",
   "id": "a90cd152",
   "metadata": {
    "slideshow": {
     "slide_type": "subslide"
    }
   },
   "source": [
    "## [Zen of Python](https://peps.python.org/pep-0020/#the-zen-of-python)\n",
    "\n",
    ">\n",
    ">Sparse is better than dense.\n",
    ">\n",
    ">Readability counts.\n",
    ">\n",
    ">Special cases aren't special enough to break the rules.\n",
    ">\n",
    ">Although practicality beats purity.\n",
    ">\n",
    ">Errors should never pass silently.\n",
    ">"
   ]
  },
  {
   "cell_type": "markdown",
   "id": "95aea5e5-a861-4ade-8785-bf954d3d65b1",
   "metadata": {
    "id": "95aea5e5-a861-4ade-8785-bf954d3d65b1",
    "slideshow": {
     "slide_type": "subslide"
    }
   },
   "source": [
    "## [Zen of Python](https://peps.python.org/pep-0020/#the-zen-of-python)\n",
    "\n",
    ">Unless explicitly silenced.\n",
    ">\n",
    ">In the face of ambiguity, refuse the temptation to guess.\n",
    ">\n",
    ">There should be one-- and preferably only one --obvious way to do it.\n",
    ">\n",
    ">Although that way may not be obvious at first unless you're Dutch.\n",
    ">\n",
    ">Now is better than never.\n",
    "\n",
    "\n",
    "\n",
    "\n"
   ]
  },
  {
   "cell_type": "markdown",
   "id": "3b3bee81",
   "metadata": {
    "id": "95aea5e5-a861-4ade-8785-bf954d3d65b1",
    "slideshow": {
     "slide_type": "subslide"
    }
   },
   "source": [
    "## [Zen of Python](https://peps.python.org/pep-0020/#the-zen-of-python)\n",
    "\n",
    ">\n",
    ">Although never is often better than *right* now.\n",
    ">\n",
    ">If the implementation is hard to explain, it's a bad idea.\n",
    ">\n",
    ">If the implementation is easy to explain, it may be a good idea.\n",
    ">\n",
    ">Namespaces are one honking great idea -- let's do more of those!\"\n",
    "\n",
    "\n",
    "\n",
    "\n"
   ]
  },
  {
   "cell_type": "markdown",
   "id": "10f0167e-a2c3-45f1-b5c9-67c7d4fe3544",
   "metadata": {
    "slideshow": {
     "slide_type": "slide"
    }
   },
   "source": [
    "<details>\n",
    "<img src=\"https://i1.faceprep.in/Companies-1/hello-world-in-python.png\" width=\"800\">\n",
    "</details>\n",
    "\n",
    "[Coding Ground For Developers](https://tutorialspoint.com/codingground.htm)"
   ]
  },
  {
   "cell_type": "markdown",
   "id": "75a0845e-4ddc-44cd-803c-a1bf1d493df2",
   "metadata": {
    "slideshow": {
     "slide_type": "slide"
    }
   },
   "source": [
    "> Python environment (libraries):\n",
    "Adanya dukungan komunitas, Python memiliki _repository library_ dan modul yang menyentuh angka 457.014 _projects_ (per Mei 2023) tersedia di Python Package Index (https://pypi.org). Dan untuk _data science_ banyak modul _machine learning, data analyzes_ dan _data visualization_ yang tersedia dan dapat digunakan."
   ]
  },
  {
   "cell_type": "markdown",
   "id": "c98b5fad",
   "metadata": {
    "slideshow": {
     "slide_type": "subslide"
    }
   },
   "source": [
    "<details>\n",
    "<img src=\"https://pydsc.files.wordpress.com/2017/11/pythonenvironment.png?w=640\" width=\"800\">\n",
    "    \n",
    "</details>"
   ]
  },
  {
   "cell_type": "markdown",
   "id": "70a1062f-184e-4cb9-aa67-280ff0eede06",
   "metadata": {
    "slideshow": {
     "slide_type": "slide"
    }
   },
   "source": [
    "\n",
    "## Rekomendasi bacaan\n",
    "\n",
    "1. [Beginner's Guide to Python - Non Progammers](https://wiki.python.org/moin/BeginnersGuide/NonProgrammers)\n",
    "2. [Beginner's Guide to Python - Progammers](https://wiki.python.org/moin/BeginnersGuide/Programmers)\n",
    "3. [A Whirlwind Tour of Python, Python Data Science Handbook](https://jakevdp.github.io/pages/about.html) oleh Jake VanderPlas.\n",
    "4. [W3School](https://www.w3schools.com).\n",
    "5. [Youtube_video](https://www.youtube.com/watch?v=GPVsHOlRBBI).\n",
    "6. [realpython](https://realpython.com/)\n",
    "7. [Python from scratch](https://open.cs.uwaterloo.ca/python-from-scratch/)"
   ]
  },
  {
   "cell_type": "markdown",
   "id": "c92d5fd4-3d07-4eae-bb4e-de91bac7139b",
   "metadata": {
    "execution": {
     "iopub.execute_input": "2023-05-29T02:42:51.835881Z",
     "iopub.status.busy": "2023-05-29T02:42:51.835881Z",
     "iopub.status.idle": "2023-05-29T02:42:51.849843Z",
     "shell.execute_reply": "2023-05-29T02:42:51.848866Z",
     "shell.execute_reply.started": "2023-05-29T02:42:51.835881Z"
    },
    "slideshow": {
     "slide_type": "slide"
    }
   },
   "source": [
    "## Mengapa bukan Python?"
   ]
  },
  {
   "cell_type": "markdown",
   "id": "6b15da77",
   "metadata": {
    "slideshow": {
     "slide_type": "subslide"
    }
   },
   "source": [
    "1. low-level programming (\"close to metal\" programming): jka ingin implementasi “extremely effective driver or graphical engine”, atau ingin menjalankan program dengan super cepat;\n",
    "2. applications for mobile devices: walau ada librarynya namun belum seluas native code dalam penggunaannya."
   ]
  },
  {
   "cell_type": "markdown",
   "id": "5cda5755-0499-4e25-9070-27338409d97c",
   "metadata": {
    "id": "5cda5755-0499-4e25-9070-27338409d97c",
    "jp-MarkdownHeadingCollapsed": true,
    "slideshow": {
     "slide_type": "slide"
    },
    "tags": []
   },
   "source": [
    "# **Instalasi Python**\n"
   ]
  },
  {
   "cell_type": "markdown",
   "id": "d6b1c574-92d3-4e08-8171-fb4b913e78cd",
   "metadata": {
    "execution": {
     "iopub.execute_input": "2023-05-29T07:40:11.501055Z",
     "iopub.status.busy": "2023-05-29T07:40:11.500058Z",
     "iopub.status.idle": "2023-05-29T07:40:11.525988Z",
     "shell.execute_reply": "2023-05-29T07:40:11.523993Z",
     "shell.execute_reply.started": "2023-05-29T07:40:11.501055Z"
    },
    "slideshow": {
     "slide_type": "subslide"
    }
   },
   "source": [
    "Offline path:\n",
    "1. Python (https://www.python.org/downloads/).\n",
    "2. Install [Anaconda](https://www.anaconda.com).\n",
    "\n",
    "Online path:\n",
    "1. [Google Colab](https://colab.research.google.com/). Tidak membutuhkan kemampuan hardware yang bagus.\n",
    "2. [Kaggle](https://www.kaggle.com). Terdapat banyak data, contoh coding, dan komunitas."
   ]
  },
  {
   "cell_type": "markdown",
   "id": "e437a7d7-d1c6-467a-b7bf-823372034e8f",
   "metadata": {
    "execution": {
     "iopub.execute_input": "2023-05-29T02:57:07.568092Z",
     "iopub.status.busy": "2023-05-29T02:57:07.568092Z",
     "iopub.status.idle": "2023-05-29T02:57:07.585045Z",
     "shell.execute_reply": "2023-05-29T02:57:07.585045Z",
     "shell.execute_reply.started": "2023-05-29T02:57:07.568092Z"
    },
    "jp-MarkdownHeadingCollapsed": true,
    "slideshow": {
     "slide_type": "subslide"
    },
    "tags": []
   },
   "source": [
    "## Python source code and installers"
   ]
  },
  {
   "cell_type": "markdown",
   "id": "9337a90a-a36e-4b4a-a2ec-1e5b2bb928c8",
   "metadata": {
    "execution": {
     "iopub.execute_input": "2023-05-29T02:57:43.058455Z",
     "iopub.status.busy": "2023-05-29T02:57:43.057457Z",
     "iopub.status.idle": "2023-05-29T02:57:43.065437Z",
     "shell.execute_reply": "2023-05-29T02:57:43.064439Z",
     "shell.execute_reply.started": "2023-05-29T02:57:43.058455Z"
    },
    "slideshow": {
     "slide_type": "subslide"
    }
   },
   "source": [
    "## Anaconda\n",
    "The world's most popular platform to develop and deploy secure Python solutions, faster <br>\n",
    "https://www.anaconda.com/"
   ]
  },
  {
   "cell_type": "markdown",
   "id": "8dc55211-5cb4-4890-b09f-c695b07a14a4",
   "metadata": {
    "slideshow": {
     "slide_type": "subslide"
    }
   },
   "source": [
    "## Visual Studio Code Editor\n",
    "1. Code editing.Redefined. https://code.visualstudio.com/\n",
    "2. Extensions - Marketplace"
   ]
  },
  {
   "cell_type": "markdown",
   "id": "0708aafd-0d5d-4a98-abad-a97d7128c214",
   "metadata": {
    "execution": {
     "iopub.execute_input": "2023-05-29T03:13:27.013846Z",
     "iopub.status.busy": "2023-05-29T03:13:27.012846Z",
     "iopub.status.idle": "2023-05-29T03:13:27.038782Z",
     "shell.execute_reply": "2023-05-29T03:13:27.033788Z",
     "shell.execute_reply.started": "2023-05-29T03:13:27.013846Z"
    },
    "slideshow": {
     "slide_type": "subslide"
    }
   },
   "source": [
    "## Python PIP\n",
    "PIP is a package manager for Python, which means it allows you to install and manage libraries and dependencies that are supplemental to the standard library. \n",
    "\n",
    "Dengan format ```pip 'arguments'```\n"
   ]
  },
  {
   "cell_type": "markdown",
   "id": "cbe18fa8-d4b0-4e95-aa5d-330be6664922",
   "metadata": {
    "slideshow": {
     "slide_type": "subslide"
    }
   },
   "source": [
    "Di jupyter notebook, **the exclamation mark (!)** allows users to **run shell commands from inside a Jupyter Notebook code cell**. Simply start a line of code with ! and it will run the command in the shell."
   ]
  },
  {
   "cell_type": "code",
   "execution_count": null,
   "id": "44ef57ba-7046-41f7-acee-3c42eb549741",
   "metadata": {
    "slideshow": {
     "slide_type": "subslide"
    },
    "tags": []
   },
   "outputs": [],
   "source": [
    "!pip --version"
   ]
  },
  {
   "cell_type": "code",
   "execution_count": null,
   "id": "673db26b-9d40-4144-8d46-0036043e5957",
   "metadata": {
    "slideshow": {
     "slide_type": "subslide"
    },
    "tags": []
   },
   "outputs": [],
   "source": [
    "!pip install numpy"
   ]
  },
  {
   "cell_type": "code",
   "execution_count": null,
   "id": "f3d9f490-0757-421b-8c32-1aab6b0833d5",
   "metadata": {
    "slideshow": {
     "slide_type": "subslide"
    },
    "tags": []
   },
   "outputs": [],
   "source": [
    "!pip show numpy"
   ]
  },
  {
   "cell_type": "code",
   "execution_count": null,
   "id": "71c2c27a-9ac6-4eca-bf8f-71e8126aa966",
   "metadata": {
    "slideshow": {
     "slide_type": "subslide"
    },
    "tags": []
   },
   "outputs": [],
   "source": [
    "!pip list"
   ]
  },
  {
   "cell_type": "code",
   "execution_count": null,
   "id": "5e03d484-c9e8-4607-b0e9-00144da40947",
   "metadata": {
    "slideshow": {
     "slide_type": "subslide"
    }
   },
   "outputs": [],
   "source": [
    "!pip uninstall numpy"
   ]
  },
  {
   "cell_type": "markdown",
   "id": "9b6e9f74-d0f0-45d6-8a5a-89c9d421fdcb",
   "metadata": {
    "execution": {
     "iopub.execute_input": "2023-05-29T03:15:27.282693Z",
     "iopub.status.busy": "2023-05-29T03:15:27.282693Z",
     "iopub.status.idle": "2023-05-29T03:15:27.299643Z",
     "shell.execute_reply": "2023-05-29T03:15:27.298649Z",
     "shell.execute_reply.started": "2023-05-29T03:15:27.282693Z"
    },
    "slideshow": {
     "slide_type": "slide"
    }
   },
   "source": [
    "## Virtual Environment (A thing that prevents conflicts)"
   ]
  },
  {
   "cell_type": "markdown",
   "id": "9ebe8045-22c6-4c57-9605-620628607f77",
   "metadata": {
    "slideshow": {
     "slide_type": "subslide"
    }
   },
   "source": [
    "When you activate a virtual environment for your project, your project becomes its own self contained application, independent of the system installed Python and its modules."
   ]
  },
  {
   "cell_type": "markdown",
   "id": "c4b95670-180c-4f07-a4b8-a7d7134397e7",
   "metadata": {
    "id": "byVgLqCxFKgy",
    "jp-MarkdownHeadingCollapsed": true,
    "slideshow": {
     "slide_type": "subslide"
    },
    "tags": []
   },
   "source": [
    "Allow you to manage separate package installations for different projects. They essentially allow you to create a “virtual” isolated Python installation and install packages into that virtual installation (basically is a separate folder). When you switch projects, you can simply create a new virtual environment and not have to worry about breaking the packages installed in the other environments. It is always recommended to use a virtual environment while developing Python applications."
   ]
  },
  {
   "cell_type": "markdown",
   "id": "77e810b8-ecbb-49af-a9d8-5c8409e213a7",
   "metadata": {
    "jp-MarkdownHeadingCollapsed": true,
    "slideshow": {
     "slide_type": "subslide"
    },
    "tags": []
   },
   "source": [
    "<details>\n",
    "Global and Environment Packages\n",
    "<img src=\"https://user-images.githubusercontent.com/78694043/145010258-2ad35301-b0a0-4fd7-b8be-c44a0df28483.png\" width=\"640\">\n",
    "</details>"
   ]
  },
  {
   "cell_type": "markdown",
   "id": "4ba11268-210b-4e32-8cf1-3f512a3657a6",
   "metadata": {
    "slideshow": {
     "slide_type": "subslide"
    }
   },
   "source": [
    "<details>\n",
    "Without separated virtual environment\n",
    "<img src=\"https://user-images.githubusercontent.com/78694043/145189874-1686744d-8498-4eb1-a144-2e86e59df7f8.png?w=480\" width=\"640\">\n",
    "</details>"
   ]
  },
  {
   "cell_type": "markdown",
   "id": "daffd32f-97fa-40dd-88c5-4883c70d25cd",
   "metadata": {
    "slideshow": {
     "slide_type": "subslide"
    },
    "tags": []
   },
   "source": [
    "<details>\n",
    "Example without the virtual environment\n",
    "<img src=\"https://user-images.githubusercontent.com/78694043/145010290-2eeabc7a-d22b-4b5b-ad98-5bebc5ae8b46.png?w=640\" width=\"800\">\n",
    "</details>"
   ]
  },
  {
   "cell_type": "markdown",
   "id": "0aa9613a-97c0-4496-bedf-59c0c9da0793",
   "metadata": {
    "slideshow": {
     "slide_type": "subslide"
    },
    "tags": []
   },
   "source": [
    "<details>\n",
    "Example with the virtual environment\n",
    "<img src=\"https://user-images.githubusercontent.com/78694043/145010310-aadd8463-100e-495a-ad26-61fc7c03b502.png?w=640\" width=\"800\">\n",
    "</details>"
   ]
  },
  {
   "cell_type": "markdown",
   "id": "c82c6f2b-c396-4028-9b5e-7554284b82e9",
   "metadata": {
    "slideshow": {
     "slide_type": "subslide"
    },
    "tags": []
   },
   "source": [
    "<details>\n",
    "Use the virtual environment\n",
    "<img src=\"https://user-images.githubusercontent.com/78694043/145010188-0e11d33a-521f-4684-894b-fc0669820b34.png?w=640\" width=\"800\">\n",
    "</details>"
   ]
  },
  {
   "cell_type": "markdown",
   "id": "10b4c171-2c7d-4083-b8fc-7d069b846fcb",
   "metadata": {
    "execution": {
     "iopub.execute_input": "2023-05-29T03:33:04.182717Z",
     "iopub.status.busy": "2023-05-29T03:33:04.181720Z",
     "iopub.status.idle": "2023-05-29T03:33:04.199673Z",
     "shell.execute_reply": "2023-05-29T03:33:04.197677Z",
     "shell.execute_reply.started": "2023-05-29T03:33:04.182717Z"
    },
    "slideshow": {
     "slide_type": "subslide"
    }
   },
   "source": [
    "Referensi: https://serpapi.com/blog/python-virtual-environments-using-virtualenv-and-poetry/"
   ]
  },
  {
   "cell_type": "markdown",
   "id": "b72942b5-d6f2-4451-acf5-15d39e56ca5f",
   "metadata": {
    "execution": {
     "iopub.execute_input": "2023-05-29T03:37:16.951278Z",
     "iopub.status.busy": "2023-05-29T03:37:16.950281Z",
     "iopub.status.idle": "2023-05-29T03:37:16.970229Z",
     "shell.execute_reply": "2023-05-29T03:37:16.969230Z",
     "shell.execute_reply.started": "2023-05-29T03:37:16.950281Z"
    },
    "slideshow": {
     "slide_type": "subslide"
    }
   },
   "source": [
    "### Virtual Environment di Python "
   ]
  },
  {
   "cell_type": "markdown",
   "id": "86f24f4a-09db-4cae-8998-29bf34f68e8c",
   "metadata": {
    "slideshow": {
     "slide_type": "subslide"
    },
    "tags": []
   },
   "source": [
    "``` !pip install virtualenv ``` <br>\n",
    "``` virtualenv myenv ``` <br>\n",
    "``` source myenv\\Scripts\\activate ``` <br>\n",
    "``` deactivate ```"
   ]
  },
  {
   "cell_type": "markdown",
   "id": "308f0adb-4f6a-4635-af4b-177852589738",
   "metadata": {
    "slideshow": {
     "slide_type": "subslide"
    }
   },
   "source": [
    "### Virtual Environment di Anaconda"
   ]
  },
  {
   "cell_type": "markdown",
   "id": "1df8b65c-9363-45f0-bbf0-57534cd53fcc",
   "metadata": {
    "slideshow": {
     "slide_type": "subslide"
    }
   },
   "source": [
    "``` conda create --name myenv2 ``` <br>\n",
    "``` conda activatemyenv2 ``` <br>\n",
    "``` conda list ```\n",
    "\n",
    "[Conda Cheat Sheet](https://docs.conda.io/projects/conda/en/4.6.0/_downloads/52a95608c49671267e40c689e0bc00ca/conda-cheatsheet.pdf)"
   ]
  },
  {
   "cell_type": "markdown",
   "id": "6f86f613-dd70-4245-a0ff-ca08d2d36751",
   "metadata": {
    "execution": {
     "iopub.execute_input": "2023-05-29T03:45:03.299516Z",
     "iopub.status.busy": "2023-05-29T03:45:03.298519Z",
     "iopub.status.idle": "2023-05-29T03:45:03.323445Z",
     "shell.execute_reply": "2023-05-29T03:45:03.319456Z",
     "shell.execute_reply.started": "2023-05-29T03:45:03.299516Z"
    },
    "slideshow": {
     "slide_type": "subslide"
    }
   },
   "source": [
    "### Aktivasi virtual environment di Jupyter Notebook\n",
    "``` pip3 install ipykernel ``` <br>\n",
    "```ipython kernel install --user --name=myenv ```"
   ]
  },
  {
   "cell_type": "markdown",
   "id": "eS7RDMHQu5-w",
   "metadata": {
    "id": "eS7RDMHQu5-w",
    "slideshow": {
     "slide_type": "slide"
    },
    "tags": []
   },
   "source": [
    "# **Basic Python**"
   ]
  },
  {
   "cell_type": "markdown",
   "id": "abb28ab4-a5e6-47ac-a687-cd5b0af7b5f7",
   "metadata": {
    "id": "abb28ab4-a5e6-47ac-a687-cd5b0af7b5f7",
    "slideshow": {
     "slide_type": "slide"
    }
   },
   "source": [
    "\n",
    "Dapat menggunakan mode operasi: _Interactive, Scripting_, atau _Notebook_.\n",
    "\n",
    "Agenda (Hari Pertama) :\n",
    "1. ```Sintaksis``` dasar.\n",
    "2. ```Tipe data``` (variable, math, list, tuple, dictionary).\n",
    "3. ```Indexing dan slicing```.\n",
    "4. ```Functions```.\n",
    "5. ```Modules```."
   ]
  },
  {
   "cell_type": "markdown",
   "id": "57e64917-5e2f-4d0f-9e2b-ddc9ca178899",
   "metadata": {
    "slideshow": {
     "slide_type": "slide"
    }
   },
   "source": [
    "## Mari kita mulai"
   ]
  },
  {
   "cell_type": "code",
   "execution_count": 3,
   "id": "4bbf1feb-441e-4107-8999-5918cdb76fac",
   "metadata": {
    "colab": {
     "base_uri": "https://localhost:8080/",
     "height": 134
    },
    "id": "4bbf1feb-441e-4107-8999-5918cdb76fac",
    "outputId": "612dd293-8bd1-45a3-ee6d-58656b111aab",
    "slideshow": {
     "slide_type": "slide"
    },
    "tags": []
   },
   "outputs": [
    {
     "name": "stdout",
     "output_type": "stream",
     "text": [
      "Hello World!\n"
     ]
    }
   ],
   "source": [
    "\n",
    "print('Hello World!')\n"
   ]
  },
  {
   "cell_type": "markdown",
   "id": "e914e1e4-655c-4096-a34d-ca4cc1a8c1fd",
   "metadata": {
    "execution": {
     "iopub.execute_input": "2023-05-29T04:39:52.139363Z",
     "iopub.status.busy": "2023-05-29T04:39:52.139363Z",
     "iopub.status.idle": "2023-05-29T04:39:52.158312Z",
     "shell.execute_reply": "2023-05-29T04:39:52.157312Z",
     "shell.execute_reply.started": "2023-05-29T04:39:52.139363Z"
    },
    "slideshow": {
     "slide_type": "subslide"
    }
   },
   "source": [
    "![image info](./confetti.gif)"
   ]
  },
  {
   "cell_type": "markdown",
   "id": "1d6bc740-1b0e-40d2-8a81-f2e6d50ca0a4",
   "metadata": {
    "slideshow": {
     "slide_type": "subslide"
    }
   },
   "source": [
    "<a href=\"https://lordicon.com/\">Icons by Lordicon.com</a>"
   ]
  },
  {
   "cell_type": "markdown",
   "id": "3f0ff1db-df75-41ed-b2a1-09e4294a959f",
   "metadata": {
    "slideshow": {
     "slide_type": "slide"
    }
   },
   "source": [
    "``` print('Hello World!') ``` <br>\n",
    "Program pertama kita terdiri dari:\n",
    " - kata ``` print ```\n",
    " - kurang buka\n",
    " - kutip ganda\n",
    " - teks\n",
    " - kutip ganda\n",
    " - kurung tutup"
   ]
  },
  {
   "cell_type": "code",
   "execution_count": null,
   "id": "53b53a1a-2d16-4bd7-9343-235f48eea4ae",
   "metadata": {
    "slideshow": {
     "slide_type": "subslide"
    },
    "tags": []
   },
   "outputs": [],
   "source": [
    "print('Hello World!'"
   ]
  },
  {
   "cell_type": "code",
   "execution_count": null,
   "id": "eaa5affa-253c-4a06-b603-3775115d137e",
   "metadata": {
    "slideshow": {
     "slide_type": "subslide"
    },
    "tags": []
   },
   "outputs": [],
   "source": [
    "prin(\"Hello World!\")"
   ]
  },
  {
   "cell_type": "code",
   "execution_count": null,
   "id": "4f1d0ca7-f144-4a51-97ad-4a560cfd9f46",
   "metadata": {
    "slideshow": {
     "slide_type": "subslide"
    },
    "tags": []
   },
   "outputs": [],
   "source": [
    "meonk(\"kucing\")"
   ]
  },
  {
   "cell_type": "code",
   "execution_count": null,
   "id": "27dbe400-5a25-4380-96f2-5ae45d871bca",
   "metadata": {
    "slideshow": {
     "slide_type": "subslide"
    },
    "tags": []
   },
   "outputs": [],
   "source": [
    "print()"
   ]
  },
  {
   "cell_type": "code",
   "execution_count": null,
   "id": "885a952d-ba13-45f2-a0d7-202ba92f8c36",
   "metadata": {
    "slideshow": {
     "slide_type": "subslide"
    },
    "tags": []
   },
   "outputs": [],
   "source": [
    "# tampilkan ke layar nama Anda.\n",
    "print()"
   ]
  },
  {
   "cell_type": "markdown",
   "id": "436deccd-cc7b-4ba3-be9b-507f46179554",
   "metadata": {
    "slideshow": {
     "slide_type": "subslide"
    }
   },
   "source": [
    "Pesan error dalam warna **merah** terdiri dari:\n",
    "- Traceback, lokasi file yang error\n",
    "- Lokasi error di program kita ditunjukkan dengan tanda ```---->```\n",
    "- Konten errornya\n",
    "- Nama pesan errornya dan penjelasannya"
   ]
  },
  {
   "cell_type": "markdown",
   "id": "1c680467-f76e-4755-b68e-ae7d94e89dd5",
   "metadata": {
    "slideshow": {
     "slide_type": "slide"
    }
   },
   "source": [
    "## ***Function***\n",
    "```print``` merupakan nama sebuah ***function*** <br>\n",
    "\n",
    "***Function*** dapat:\n",
    "1. ***cause some effect***, mengirim teks, membuat file, menggambar, memutar suara ---> non matematika\n",
    "2. ***evaluate a value***, misalnya luas persegi panjang dan ***return it as the function's result*** ---> matematika\n",
    "3. Tentunya setelah sebuah *function* menerima *argument(s)*"
   ]
  },
  {
   "cell_type": "markdown",
   "id": "e42a31df-ff5d-418f-a840-480c35b90373",
   "metadata": {
    "execution": {
     "iopub.execute_input": "2023-05-29T06:11:31.064316Z",
     "iopub.status.busy": "2023-05-29T06:11:31.063320Z",
     "iopub.status.idle": "2023-05-29T06:11:31.090248Z",
     "shell.execute_reply": "2023-05-29T06:11:31.088251Z",
     "shell.execute_reply.started": "2023-05-29T06:11:31.064316Z"
    },
    "slideshow": {
     "slide_type": "subslide"
    }
   },
   "source": [
    "Dari mana **asalnya**?\n",
    "1. *From Python itself, builtin*\n",
    "2. *Modules*\n",
    "3. Buat sendiri"
   ]
  },
  {
   "cell_type": "markdown",
   "id": "8efe4d32-892c-48bf-88df-21a22733560e",
   "metadata": {
    "slideshow": {
     "slide_type": "subslide"
    }
   },
   "source": [
    "Bagaimana langkah-langkahnya?\n",
    "1. Python mengecek apakah nama *function* tersebut legal, bila tidak maka akan *aborts the code*;\n",
    "2. Python mengecek jumlah argument yang disampaikan.\n",
    "3. Python menuju kode di dalam *function*; \n",
    "4. The function menjalankan kodenya;\n",
    "5. Python kembali ke akhir baris dan melanjutkan perjalanan eksekusinya.\n"
   ]
  },
  {
   "cell_type": "markdown",
   "id": "5d94496d-4be9-4bc6-a674-1277e521951e",
   "metadata": {
    "slideshow": {
     "slide_type": "subslide"
    }
   },
   "source": [
    "## ```print``` ***function***\n",
    "1. Python escape and newline characters\n",
    "2. Positional arguments\n",
    "3. Keyword arguments"
   ]
  },
  {
   "cell_type": "code",
   "execution_count": 34,
   "id": "0c2ba85e-42bd-4215-b20f-178a59e22ba5",
   "metadata": {
    "execution": {
     "iopub.execute_input": "2023-05-29T06:31:00.989331Z",
     "iopub.status.busy": "2023-05-29T06:31:00.988335Z",
     "iopub.status.idle": "2023-05-29T06:31:01.010276Z",
     "shell.execute_reply": "2023-05-29T06:31:01.009278Z",
     "shell.execute_reply.started": "2023-05-29T06:31:00.989331Z"
    },
    "slideshow": {
     "slide_type": "subslide"
    },
    "tags": []
   },
   "outputs": [
    {
     "name": "stdout",
     "output_type": "stream",
     "text": [
      "Hello World, I'm newbie."
     ]
    }
   ],
   "source": [
    "print(\"Hello World, I\\'m newbie\", end=\".\")"
   ]
  },
  {
   "cell_type": "code",
   "execution_count": 33,
   "id": "f85d730e-65dc-4f24-b359-1c7aade400e6",
   "metadata": {
    "execution": {
     "iopub.execute_input": "2023-05-29T06:30:57.644311Z",
     "iopub.status.busy": "2023-05-29T06:30:57.644311Z",
     "iopub.status.idle": "2023-05-29T06:30:57.660268Z",
     "shell.execute_reply": "2023-05-29T06:30:57.659271Z",
     "shell.execute_reply.started": "2023-05-29T06:30:57.644311Z"
    },
    "slideshow": {
     "slide_type": "subslide"
    },
    "tags": []
   },
   "outputs": [
    {
     "name": "stdout",
     "output_type": "stream",
     "text": [
      "Hello World, I'm newbie."
     ]
    }
   ],
   "source": [
    "print(\"Hello World\", \"I\\'m newbie\", sep=\", \", end=\".\")"
   ]
  },
  {
   "cell_type": "markdown",
   "id": "a56a2f5b-df9b-40d2-8545-0850834a556f",
   "metadata": {
    "id": "a56a2f5b-df9b-40d2-8545-0850834a556f",
    "slideshow": {
     "slide_type": "slide"
    },
    "tags": []
   },
   "source": [
    "## Sintaksis dasar\n",
    "\n",
    "> Sintaksis dalam python bertujuan untuk memastikan kode yang dibuat mudah untuk dibaca dan dipahami. Artinya ada standar penulisan yang digunakan, dalam hal ini [PEP 8 - Style Guide for Python Code](https://peps.python.org/pep-0008/#code-lay-out).\n",
    "\n",
    "Beberapa hal dasar yang perlu dipahami:\n",
    "1. Penulisan komentar.\n",
    "2. Indentasi.\n",
    "3. Penggabungan code.\n",
    "3. Penamaan variable.\n",
    "5. Baris lanjutan\n",
    "6. Maksimal panjang tiap baris kode adalah 79 karakter\n",
    "7. Ganti baris sebelum operator"
   ]
  },
  {
   "cell_type": "code",
   "execution_count": 45,
   "id": "d2f0b17a-6ed5-4771-b4dd-4b08b5e38efa",
   "metadata": {
    "colab": {
     "base_uri": "https://localhost:8080/"
    },
    "execution": {
     "iopub.execute_input": "2023-05-29T06:39:13.397531Z",
     "iopub.status.busy": "2023-05-29T06:39:13.396534Z",
     "iopub.status.idle": "2023-05-29T06:39:13.420470Z",
     "shell.execute_reply": "2023-05-29T06:39:13.418473Z",
     "shell.execute_reply.started": "2023-05-29T06:39:13.397531Z"
    },
    "id": "d2f0b17a-6ed5-4771-b4dd-4b08b5e38efa",
    "outputId": "ccb5009f-b2c8-42d9-82f7-66c740444e48",
    "slideshow": {
     "slide_type": "subslide"
    },
    "tags": []
   },
   "outputs": [
    {
     "name": "stdout",
     "output_type": "stream",
     "text": [
      "Sama\n"
     ]
    }
   ],
   "source": [
    "#1. Penulisan komentar.\n",
    "#2. Indentasi\n",
    "# komentar\n",
    "# membuat variable bernama x        # > ini merupakan contoh dari komentar\n",
    "x = 2\n",
    "\n",
    "\"\"\"indentasi\n",
    "membuat if else statement\n",
    "jika value dalam x tidak sama dengan dua\n",
    "maka print 'Tidak Sama'\n",
    "jika sama\n",
    "#maka print 'Sama'\n",
    "\"\"\"\n",
    "if x == 2:\n",
    "    print(\"Sama\")             # > ini merupakan contoh dari indentansi, gunakan 4 spasi (bukan tabs) untuk indentasi (rekomendasi)\n",
    "else:\n",
    "    print(\" Tidak Sama\")"
   ]
  },
  {
   "cell_type": "code",
   "execution_count": null,
   "id": "ef94c8ca-bf53-4fff-83ec-3191632796f8",
   "metadata": {
    "id": "ef94c8ca-bf53-4fff-83ec-3191632796f8",
    "outputId": "933604ec-23eb-4b6f-d1c6-1cb37a7bb878",
    "slideshow": {
     "slide_type": "subslide"
    },
    "tags": []
   },
   "outputs": [],
   "source": [
    "# 3. Penggabungan code\n",
    "\n",
    "'''pertama variable bernama y\n",
    "kemudian print variable y\n",
    "digabungkan menggunakan semicolon (;)'''\n",
    "\n",
    "y = 3; print(y)"
   ]
  },
  {
   "cell_type": "code",
   "execution_count": null,
   "id": "d5ba2adf-31a2-468f-996f-e8f2661b60ec",
   "metadata": {
    "id": "d5ba2adf-31a2-468f-996f-e8f2661b60ec",
    "slideshow": {
     "slide_type": "subslide"
    },
    "tags": []
   },
   "outputs": [],
   "source": [
    "# 4. Penamaan variable\n",
    "# bisa menggunakan kombinasi uppercase dan lowercase\n",
    "# tidak bisa dimulai dengan angka\n",
    "# antar kata bisa dihubungkan dengan underscore (_)\n",
    "nama_lengkap = 'ini Budi'  # kombinasi lowercase dengan underscore\n",
    "namalengkap  = 'ini Budi'  # hanya lowercase\n",
    "NamaLengkap  = 'Ini Budi'  # kombinasi uppercase dan lowercase\n",
    "1_nama = 'ini Budi'"
   ]
  },
  {
   "cell_type": "code",
   "execution_count": null,
   "id": "1y9XbvUzCvcm",
   "metadata": {
    "colab": {
     "base_uri": "https://localhost:8080/"
    },
    "id": "1y9XbvUzCvcm",
    "outputId": "6a0b84ba-59a3-49d4-b0ef-d5f027ecacea",
    "slideshow": {
     "slide_type": "subslide"
    },
    "tags": []
   },
   "outputs": [],
   "source": [
    "# 5. Baris lanjutan\n",
    "# 6. Maksimal panjang tiap baris kode adalah 79 karakter\n",
    "\n",
    "var_one = 1\n",
    "var_two = 2\n",
    "def function_tambah(\n",
    "    var_one,\n",
    "    var_two):\n",
    "  print(var_two)\n",
    "\n",
    "# maksimal panjang baris\n",
    "print(\"var_one\", var_one)             # > ini merupakan contoh dari indentansi# > ini merupakan contoh dari indentansi, gunakan 4 spasi (bukan tabs) untuk indentasi (rekomendasi) (193 karakter)\n",
    "print(\"var_two\", var_two)             # > ini contoh indentansi (77 karakter)"
   ]
  },
  {
   "cell_type": "code",
   "execution_count": null,
   "id": "-Z8GN1jHGyru",
   "metadata": {
    "id": "-Z8GN1jHGyru",
    "slideshow": {
     "slide_type": "subslide"
    },
    "tags": []
   },
   "outputs": [],
   "source": [
    "# 7. Ganti baris sebelum operator\n",
    "# Wrong:\n",
    "# operators sit far away from their operands\n",
    "income = (gross_wages +\n",
    "          taxable_interest +\n",
    "          (dividends - qualified_dividends) -\n",
    "          ira_deduction -\n",
    "          student_loan_interest)\n",
    "\n",
    "# Correct:\n",
    "# easy to match operators with operands\n",
    "income = (gross_wages\n",
    "          + taxable_interest\n",
    "          + (dividends - qualified_dividends)\n",
    "          - ira_deduction\n",
    "          - student_loan_interest)"
   ]
  },
  {
   "cell_type": "markdown",
   "id": "94cd2509-64b6-4c88-8cb9-e7e61ff4250c",
   "metadata": {
    "id": "94cd2509-64b6-4c88-8cb9-e7e61ff4250c",
    "slideshow": {
     "slide_type": "slide"
    }
   },
   "source": [
    "## Tipe data"
   ]
  },
  {
   "cell_type": "markdown",
   "id": "c91d103b-76b1-47bf-8a37-358fe70c7e6f",
   "metadata": {
    "id": "c91d103b-76b1-47bf-8a37-358fe70c7e6f",
    "slideshow": {
     "slide_type": "subslide"
    }
   },
   "source": [
    "<details>\n",
    "<img src=\"https://miro.medium.com/max/631/1*8J9yViDiXqNYeEWctWkdfQ.jpeg\" width=\"800\">\n",
    "</details>"
   ]
  },
  {
   "cell_type": "code",
   "execution_count": null,
   "id": "f24cfad4-4478-4125-8593-bce6095a200d",
   "metadata": {
    "slideshow": {
     "slide_type": "subslide"
    },
    "tags": []
   },
   "outputs": [],
   "source": [
    "# Integers\n",
    "#  sebelas juta seratus sebelas ribu seratus sebelas rupiah\n",
    "angka1 = 11_111_111\n",
    "angka2 = 11111111\n",
    "print(angka1, angka2)"
   ]
  },
  {
   "cell_type": "code",
   "execution_count": null,
   "id": "HZD_fQHtXyQK",
   "metadata": {
    "colab": {
     "base_uri": "https://localhost:8080/"
    },
    "id": "HZD_fQHtXyQK",
    "outputId": "bbd855b6-af99-4cf1-fc0a-bdaa41bcb687",
    "slideshow": {
     "slide_type": "subslide"
    },
    "tags": []
   },
   "outputs": [],
   "source": [
    "# Float\n",
    "f1 = 0.7\n",
    "print(f)"
   ]
  },
  {
   "cell_type": "code",
   "execution_count": null,
   "id": "a1776e88-cfc2-40b2-ace9-9ecc6420363f",
   "metadata": {
    "slideshow": {
     "slide_type": "subslide"
    },
    "tags": []
   },
   "outputs": [],
   "source": [
    "f2 = 7.\n",
    "print(f2)"
   ]
  },
  {
   "cell_type": "code",
   "execution_count": null,
   "id": "90234ed0-02c4-4fd9-bb7e-4ef41d3511dd",
   "metadata": {
    "slideshow": {
     "slide_type": "subslide"
    },
    "tags": []
   },
   "outputs": [],
   "source": [
    "# String\n",
    "print('Budi')"
   ]
  },
  {
   "cell_type": "code",
   "execution_count": null,
   "id": "e9111c77-4ea8-4830-9ede-91c4a270f528",
   "metadata": {
    "slideshow": {
     "slide_type": "subslide"
    },
    "tags": []
   },
   "outputs": [],
   "source": [
    "# Boolean\n",
    "print(True > False)\n",
    "print(True < False)"
   ]
  },
  {
   "cell_type": "markdown",
   "id": "0aa6dd89-97f0-43e4-91c3-a8ee89866593",
   "metadata": {
    "id": "0aa6dd89-97f0-43e4-91c3-a8ee89866593",
    "slideshow": {
     "slide_type": "subslide"
    }
   },
   "source": [
    "bagaimana cara untuk mengecek tipe data?"
   ]
  },
  {
   "cell_type": "code",
   "execution_count": null,
   "id": "3dd487ad-69a4-4dbc-a0c1-d8743c8d99af",
   "metadata": {
    "id": "3dd487ad-69a4-4dbc-a0c1-d8743c8d99af",
    "outputId": "bd91411a-259e-41a0-c93f-c9f23390932e",
    "slideshow": {
     "slide_type": "subslide"
    },
    "tags": []
   },
   "outputs": [],
   "source": [
    "type(\"Budi\")"
   ]
  },
  {
   "cell_type": "code",
   "execution_count": null,
   "id": "4f786a3f-405a-4bce-b477-5d06d023c194",
   "metadata": {
    "id": "4f786a3f-405a-4bce-b477-5d06d023c194",
    "outputId": "5a58b84c-ce81-468e-bcf1-a28879821dd9",
    "slideshow": {
     "slide_type": "subslide"
    },
    "tags": []
   },
   "outputs": [],
   "source": [
    "type(10.01)"
   ]
  },
  {
   "cell_type": "code",
   "execution_count": null,
   "id": "65929745-17a7-453f-993b-dbe490841eb2",
   "metadata": {
    "id": "65929745-17a7-453f-993b-dbe490841eb2",
    "slideshow": {
     "slide_type": "subslide"
    }
   },
   "outputs": [],
   "source": [
    "# Coba cek tipe dari angka 1001"
   ]
  },
  {
   "cell_type": "markdown",
   "id": "93195254-e1b1-4618-818c-87eea37deec3",
   "metadata": {
    "id": "93195254-e1b1-4618-818c-87eea37deec3",
    "slideshow": {
     "slide_type": "slide"
    }
   },
   "source": [
    "### Variable\n",
    "\n",
    "> [Lokasi memori yang dicadangkan untuk menyimpan values](https://www.w3schools.com/python/python_variables.asp).\n",
    "\n",
    "Variabel adalah nama yang dilampirkan ke objek tertentu. Untuk membuat variabel dalam python cukup menetapkan nilai dan kemudian mulai menggunakannya. Penugasan dilakukan dengan satu tanda sama dengan (=):\n",
    "\n",
    "Beberapa hal dasar yang perlu dipahami:\n",
    "1. Cara membuat variable.\n",
    "2. Overwrite variable dan interaksinya.\n",
    "3. Multiple assignment."
   ]
  },
  {
   "cell_type": "code",
   "execution_count": null,
   "id": "617d48e1-a533-48cc-a42f-cb339ac5c4ad",
   "metadata": {
    "id": "617d48e1-a533-48cc-a42f-cb339ac5c4ad",
    "slideshow": {
     "slide_type": "subslide"
    }
   },
   "outputs": [],
   "source": [
    "# membuat variable A\n",
    "A = 2\n",
    "# dibaca A diberi nilai 2"
   ]
  },
  {
   "cell_type": "code",
   "execution_count": null,
   "id": "d2366691-9fda-4e52-8e03-4d5901ed8f1b",
   "metadata": {
    "colab": {
     "base_uri": "https://localhost:8080/"
    },
    "id": "d2366691-9fda-4e52-8e03-4d5901ed8f1b",
    "outputId": "affb5707-a427-44a8-d86c-4945f4768ec1",
    "slideshow": {
     "slide_type": "subslide"
    }
   },
   "outputs": [],
   "source": [
    "# untuk melakukan fungsi print, value apa saja yang tersimpan di dalamnya\n",
    "# bisa menggunakan print(A)\n",
    "# atau langsung ketik A\n",
    "A"
   ]
  },
  {
   "cell_type": "code",
   "execution_count": null,
   "id": "76977f7a-1acb-432d-b07e-da9d6a924ac9",
   "metadata": {
    "colab": {
     "base_uri": "https://localhost:8080/"
    },
    "id": "76977f7a-1acb-432d-b07e-da9d6a924ac9",
    "outputId": "64975d5b-13a0-44a9-9855-b42c7457e764",
    "slideshow": {
     "slide_type": "subslide"
    }
   },
   "outputs": [],
   "source": [
    "print(A)"
   ]
  },
  {
   "cell_type": "code",
   "execution_count": null,
   "id": "feaeb8ea",
   "metadata": {
    "id": "feaeb8ea",
    "outputId": "8456e75d-0f3b-4987-ef4a-c1d7395fb9a4",
    "slideshow": {
     "slide_type": "subslide"
    }
   },
   "outputs": [],
   "source": [
    "# print tanpa command print hanya dapat dilakukan jika dipanggil pada baris terakhir di cell Jupyter Notebook\n",
    "A\n",
    "B = 'tugas baru'\n",
    "B"
   ]
  },
  {
   "cell_type": "code",
   "execution_count": null,
   "id": "dba05cef-ede8-44ff-99bb-b972a2926640",
   "metadata": {
    "colab": {
     "base_uri": "https://localhost:8080/"
    },
    "id": "dba05cef-ede8-44ff-99bb-b972a2926640",
    "outputId": "7c679549-6d32-4735-e530-f29c5d13cda9",
    "slideshow": {
     "slide_type": "subslide"
    }
   },
   "outputs": [],
   "source": [
    "# cek apakah jika kita melakukan overwrite atas A\n",
    "# value apa yang tersimpan di dalamnya\n",
    "# perhatikan interaksinya\n",
    "A = 'Python for Data Analytics'\n",
    "print(A)"
   ]
  },
  {
   "cell_type": "code",
   "execution_count": null,
   "id": "3f6a2acf-12eb-44c3-846c-f119b185006b",
   "metadata": {
    "colab": {
     "base_uri": "https://localhost:8080/"
    },
    "id": "3f6a2acf-12eb-44c3-846c-f119b185006b",
    "outputId": "7d8da8f1-9302-493e-86af-770063f19623",
    "slideshow": {
     "slide_type": "subslide"
    }
   },
   "outputs": [],
   "source": [
    "# multiple assignment\n",
    "# biasanya akan ditulis beruntun\n",
    "A = 1\n",
    "B = 2\n",
    "print(A)\n",
    "print(B)\n",
    "\n",
    "# kita akan melakukan overwrite kembali\n",
    "# perhatikan cara penulisan multiple assignment yang lain\n",
    "# A, B = 3, 5\n",
    "# print(A)\n",
    "# print(B)"
   ]
  },
  {
   "cell_type": "markdown",
   "id": "5535c74f-9369-4202-af07-f8d2f50c93b9",
   "metadata": {
    "id": "5535c74f-9369-4202-af07-f8d2f50c93b9",
    "slideshow": {
     "slide_type": "slide"
    }
   },
   "source": [
    "> Secara resmi, nama variabel dalam Python dapat memiliki panjang berapa pun dan dapat terdiri dari huruf besar dan huruf kecil (A-Z, a-z), angka (0-9), dan karakter garis bawah (_). \n",
    "\n",
    "> Batasan tambahan adalah bahwa nama variabel hanya dapat **dimulai** dengan huruf atau garis bawah dan disarankan untuk tidak menggunakan **nama-nama** dari fungsi atau variable bawaan python basic (print, str, type, etc)"
   ]
  },
  {
   "cell_type": "code",
   "execution_count": null,
   "id": "0d809ca2-b6cc-47bf-973b-59452e8e3419",
   "metadata": {
    "colab": {
     "base_uri": "https://localhost:8080/"
    },
    "id": "0d809ca2-b6cc-47bf-973b-59452e8e3419",
    "outputId": "fce5f8f9-5525-46f0-fac8-6f1455577afa",
    "slideshow": {
     "slide_type": "subslide"
    }
   },
   "outputs": [],
   "source": [
    "_judul = 'Python for Data Analytics'\n",
    "print(_judul)"
   ]
  },
  {
   "cell_type": "code",
   "execution_count": null,
   "id": "4d6ccca1-87ca-4131-b125-1f8d3a792093",
   "metadata": {
    "colab": {
     "base_uri": "https://localhost:8080/",
     "height": 130
    },
    "id": "4d6ccca1-87ca-4131-b125-1f8d3a792093",
    "outputId": "528dfc81-0d9f-44a4-dec5-b7cf14569783",
    "slideshow": {
     "slide_type": "subslide"
    }
   },
   "outputs": [],
   "source": [
    "2judul = 'Python for Data Analytics'\n",
    "print(2judul)"
   ]
  },
  {
   "cell_type": "code",
   "execution_count": null,
   "id": "992e9f79-3b93-4a8e-8a9b-cced5f43c8b6",
   "metadata": {
    "colab": {
     "base_uri": "https://localhost:8080/"
    },
    "id": "992e9f79-3b93-4a8e-8a9b-cced5f43c8b6",
    "outputId": "30895cdd-58b6-4f49-d54d-ded68e4cec7b",
    "slideshow": {
     "slide_type": "subslide"
    }
   },
   "outputs": [],
   "source": [
    "judul2 = 'Python for Data Analytics'\n",
    "print(judul2)"
   ]
  },
  {
   "cell_type": "markdown",
   "id": "a7d4be72-f1d2-4b42-aefe-656a2098c208",
   "metadata": {
    "id": "a7d4be72-f1d2-4b42-aefe-656a2098c208",
    "slideshow": {
     "slide_type": "subslide"
    }
   },
   "source": [
    "> terkait penamaan variabel bisa dibaca lebih lanjut pada https://peps.python.org/pep-0008/"
   ]
  },
  {
   "cell_type": "markdown",
   "id": "be84989e-7bf0-41ee-86eb-8cbb49fec7c9",
   "metadata": {
    "id": "be84989e-7bf0-41ee-86eb-8cbb49fec7c9",
    "slideshow": {
     "slide_type": "slide"
    }
   },
   "source": [
    "### Operators and Expressions\n",
    "> Dalam python operator adalah **simbol khusus** yang menunjukkan bahwa beberapa jenis perhitungan harus dilakukan. Nilai yang dijalankan oleh operator disebut **operand**.\n",
    "\n",
    "> Urutan operan dan operator, seperti a + b - 5, disebut **ekspresi**."
   ]
  },
  {
   "cell_type": "markdown",
   "id": "62d7acc3-c441-4e36-9f69-ddb354402d19",
   "metadata": {
    "id": "62d7acc3-c441-4e36-9f69-ddb354402d19",
    "slideshow": {
     "slide_type": "subslide"
    }
   },
   "source": [
    "#### Arithmetic operator (Operator Aritmatika)\n",
    "\n",
    "> Gunakan kurung untuk memastikan arithmetic operator dijalankan terlebih dahulu.\n",
    "\n",
    "| Operator | Deskripsi | Contoh | \n",
    "| :-: | :-- | :-:|\n",
    "| `**`| Pangkat | `x ** 2`|\n",
    "| `*`| Perkalian | `x * 4` | \n",
    "| `/`| Pembagian, hasilnya float | `x / 5` | \n",
    "| `//`| Pembagian, hasilnya rounded | `x // 3` |\n",
    "| `%`| Sisa Bagi (modulo) | `x % 2`| \n",
    "| `+`| Penjumlahan | `x + y` | \n",
    "| `-`| Pengurangan | `x - y` | "
   ]
  },
  {
   "cell_type": "code",
   "execution_count": null,
   "id": "283bd378-589c-48a3-9d7b-a5d162d93559",
   "metadata": {
    "id": "283bd378-589c-48a3-9d7b-a5d162d93559",
    "outputId": "7dfe0b31-d3f3-4531-9178-977ad178afcf",
    "slideshow": {
     "slide_type": "subslide"
    }
   },
   "outputs": [],
   "source": [
    "5**2"
   ]
  },
  {
   "cell_type": "code",
   "execution_count": null,
   "id": "87005935-d3b7-48d9-8a55-bd91fc94c87b",
   "metadata": {
    "id": "87005935-d3b7-48d9-8a55-bd91fc94c87b",
    "outputId": "be15cc68-742e-4123-adc5-b741c66aabfc",
    "slideshow": {
     "slide_type": "subslide"
    }
   },
   "outputs": [],
   "source": [
    "5*2"
   ]
  },
  {
   "cell_type": "code",
   "execution_count": null,
   "id": "2a7b869d-d6d0-404b-ae01-730550887dbf",
   "metadata": {
    "id": "2a7b869d-d6d0-404b-ae01-730550887dbf",
    "outputId": "9149147d-de61-4b98-fc53-13ec25f35aff",
    "slideshow": {
     "slide_type": "subslide"
    }
   },
   "outputs": [],
   "source": [
    "10/2"
   ]
  },
  {
   "cell_type": "code",
   "execution_count": null,
   "id": "34afd50a-dd60-4cca-b5d2-d239a67db319",
   "metadata": {
    "id": "34afd50a-dd60-4cca-b5d2-d239a67db319",
    "outputId": "80dc7971-88e3-4cc6-93a4-f5c431357828",
    "slideshow": {
     "slide_type": "subslide"
    }
   },
   "outputs": [],
   "source": [
    "13//2"
   ]
  },
  {
   "cell_type": "code",
   "execution_count": null,
   "id": "e5d4246c-19eb-40ae-ad20-665d39e41e29",
   "metadata": {
    "id": "e5d4246c-19eb-40ae-ad20-665d39e41e29",
    "outputId": "0321a79b-01b8-4895-fdc1-3d56e6942374",
    "slideshow": {
     "slide_type": "subslide"
    }
   },
   "outputs": [],
   "source": [
    "13%2"
   ]
  },
  {
   "cell_type": "code",
   "execution_count": null,
   "id": "b5fe6e01-2eaa-4a47-8d03-ff0fbfe99c46",
   "metadata": {
    "id": "b5fe6e01-2eaa-4a47-8d03-ff0fbfe99c46",
    "outputId": "00272a58-df56-42f6-9109-26c00b2602c8",
    "slideshow": {
     "slide_type": "subslide"
    }
   },
   "outputs": [],
   "source": [
    "4+5"
   ]
  },
  {
   "cell_type": "code",
   "execution_count": null,
   "id": "c436cf5d-f3b9-4209-b3f2-bddc17bc7e2d",
   "metadata": {
    "id": "c436cf5d-f3b9-4209-b3f2-bddc17bc7e2d",
    "outputId": "ad1e80b8-53ed-46f3-e246-a35a12bd3e3d",
    "slideshow": {
     "slide_type": "subslide"
    }
   },
   "outputs": [],
   "source": [
    "9-5"
   ]
  },
  {
   "cell_type": "code",
   "execution_count": null,
   "id": "da89f75f",
   "metadata": {
    "id": "da89f75f",
    "outputId": "e78339e7-2cba-4ba7-9ca2-34eb623684ae",
    "slideshow": {
     "slide_type": "subslide"
    }
   },
   "outputs": [],
   "source": [
    "12*1.4"
   ]
  },
  {
   "cell_type": "code",
   "execution_count": null,
   "id": "38667775-7952-4791-9b9a-0c6605ff8a42",
   "metadata": {
    "id": "38667775-7952-4791-9b9a-0c6605ff8a42",
    "outputId": "4099b03c-b6ac-42f0-cc00-0173d0aa8f7b",
    "slideshow": {
     "slide_type": "subslide"
    }
   },
   "outputs": [],
   "source": [
    "# menjumlahkan nilai pada variable A dan B\n",
    "A = 1\n",
    "B = 2\n",
    "C = A + B\n",
    "print(C)\n",
    "print(type(C))"
   ]
  },
  {
   "cell_type": "markdown",
   "id": "e253c69c-250d-49bb-8618-0fe44618f16a",
   "metadata": {
    "id": "e253c69c-250d-49bb-8618-0fe44618f16a",
    "slideshow": {
     "slide_type": "slide"
    }
   },
   "source": [
    "---\n",
    "**Latihan**"
   ]
  },
  {
   "cell_type": "code",
   "execution_count": null,
   "id": "b31fe596-9293-4509-8fcb-231e3e5434bd",
   "metadata": {
    "id": "b31fe596-9293-4509-8fcb-231e3e5434bd",
    "slideshow": {
     "slide_type": "subslide"
    }
   },
   "outputs": [],
   "source": [
    "# Hitunglah 25 pangkat 5"
   ]
  },
  {
   "cell_type": "code",
   "execution_count": null,
   "id": "f1d51d9f-a006-4bbb-abce-659f79eaa028",
   "metadata": {
    "id": "f1d51d9f-a006-4bbb-abce-659f79eaa028",
    "slideshow": {
     "slide_type": "subslide"
    }
   },
   "outputs": [],
   "source": [
    "# Hitunglah akar kuadrat dari 169"
   ]
  },
  {
   "cell_type": "code",
   "execution_count": null,
   "id": "032d07a5-f40b-4b77-8488-c5a5b7a5246b",
   "metadata": {
    "id": "032d07a5-f40b-4b77-8488-c5a5b7a5246b",
    "slideshow": {
     "slide_type": "subslide"
    }
   },
   "outputs": [],
   "source": [
    "# Hitunglah pembagian bulat dari 17 dengan 5"
   ]
  },
  {
   "cell_type": "code",
   "execution_count": null,
   "id": "87d2e19c-4db7-4e51-932e-e3dac58c4731",
   "metadata": {
    "id": "87d2e19c-4db7-4e51-932e-e3dac58c4731",
    "slideshow": {
     "slide_type": "subslide"
    }
   },
   "outputs": [],
   "source": [
    "# Hitunglah pembagian bulat dan sisa bagi dari 97 dengan 3"
   ]
  },
  {
   "cell_type": "markdown",
   "id": "100048b6-3cbf-458c-a475-aeb57f24df82",
   "metadata": {
    "id": "100048b6-3cbf-458c-a475-aeb57f24df82",
    "slideshow": {
     "slide_type": "slide"
    }
   },
   "source": [
    "##### Urutan Operasi Aritmatik"
   ]
  },
  {
   "cell_type": "markdown",
   "id": "a24cbbe4-0969-4d0a-b3cb-3888c0383753",
   "metadata": {
    "id": "a24cbbe4-0969-4d0a-b3cb-3888c0383753",
    "slideshow": {
     "slide_type": "subslide"
    }
   },
   "source": [
    "Setiap operasi Aritmatik di dalam python memiliki urutan dalam pengoperasiannya. Jika dalam satu ekpression terdapat lebih dari satu operasi, maka kode akan di eksekusi berdasarkan operasi yang lebih tinggi prioritasnya.\n",
    "\n",
    "<br>\n",
    "<br>\n",
    "\n",
    "| Operator|Simbol |\n",
    "| :-: | :-- |\n",
    "| Tanda Kurung|( )|\n",
    "| Pangkat|**|\n",
    "| kali, bagi, pembagian (dengan output pembulatan kebawah), hasil sisa pembagian| * , / , //, %|\n",
    "| Tambah, Kurang| + , - |\n",
    "\n",
    "<br>\n",
    "<br>"
   ]
  },
  {
   "cell_type": "code",
   "execution_count": null,
   "id": "535516dd-a1e3-4184-af8a-cc6bc731a65b",
   "metadata": {
    "colab": {
     "base_uri": "https://localhost:8080/"
    },
    "id": "535516dd-a1e3-4184-af8a-cc6bc731a65b",
    "outputId": "a6dcece9-bcfa-449a-c446-0ccfc2ec914b",
    "slideshow": {
     "slide_type": "subslide"
    }
   },
   "outputs": [],
   "source": [
    "5/5 + 5**5*5"
   ]
  },
  {
   "cell_type": "markdown",
   "id": "f8f00a30-b4af-4f6b-a778-e2edb1a03546",
   "metadata": {
    "id": "f8f00a30-b4af-4f6b-a778-e2edb1a03546",
    "slideshow": {
     "slide_type": "slide"
    }
   },
   "source": [
    "#### Comparison operator\n",
    "\n",
    "> Digunakan untuk membandingkan antara dua nilai. Menghasilkan nilai boolean (`True` atau `False`).\n",
    "\n",
    "| Operator | Deskripsi | Contoh | \n",
    "|:-:|:--|:-:|\n",
    "|`==`|`sama dengan`|`x == y`|\t\n",
    "|`!=`|`tidak sama dengan`|`x != y`|\n",
    "|`>`|`lebih dari`|`x > y`|\n",
    "|`<`|`kurang dari`|`x < y`|\t\n",
    "|`>=`|`lebih dari atau sama dengan`|`x >= y`|\t\n",
    "|`<=`|`kurang dari atau sama dengan`|`x <= y`|"
   ]
  },
  {
   "cell_type": "code",
   "execution_count": null,
   "id": "e87ab120-a2ae-4b79-817b-aff185f953a3",
   "metadata": {
    "id": "e87ab120-a2ae-4b79-817b-aff185f953a3",
    "outputId": "5a071010-d571-4a4f-f985-1da97956961d",
    "slideshow": {
     "slide_type": "subslide"
    }
   },
   "outputs": [],
   "source": [
    "A = 10\n",
    "B = 10\n",
    "print(A==B)\n",
    "print(A>B)"
   ]
  },
  {
   "cell_type": "code",
   "execution_count": null,
   "id": "8ce12db5-c004-49a8-b0fe-0b2babb44b7c",
   "metadata": {
    "id": "8ce12db5-c004-49a8-b0fe-0b2babb44b7c",
    "outputId": "dee982c3-4c13-465b-8ef7-058cb102c22f",
    "slideshow": {
     "slide_type": "subslide"
    }
   },
   "outputs": [],
   "source": [
    "A = \"PYTHON\"\n",
    "B = \"PYTHON\"\n",
    "A==B"
   ]
  },
  {
   "cell_type": "code",
   "execution_count": null,
   "id": "7f7b192f-c0cd-4c92-835e-5995ce310111",
   "metadata": {
    "id": "7f7b192f-c0cd-4c92-835e-5995ce310111",
    "outputId": "e7517fb4-1e3b-4b8a-ec24-c7e81f6316ab",
    "slideshow": {
     "slide_type": "subslide"
    }
   },
   "outputs": [],
   "source": [
    "A = \"python\"\n",
    "B = \"PYTHON\"\n",
    "print(A==B)\n",
    "print(A!=B)"
   ]
  },
  {
   "cell_type": "markdown",
   "id": "0d8ea216-5cbe-4e99-a4a3-708e7f4278c6",
   "metadata": {
    "id": "0d8ea216-5cbe-4e99-a4a3-708e7f4278c6",
    "slideshow": {
     "slide_type": "slide"
    }
   },
   "source": [
    "#### Logical operator\n",
    "\n",
    "> Digunakan untuk mengkombinasikan nilai boolean.\n",
    "\n",
    "| Operator | Deskripsi | Contoh | \n",
    "|:-:|:--|:-:|\n",
    "|`not`|\tMembalik nilai boolean, menghasilkan nilai `False` jika peryataan bernilai `True` dan sebaliknya\t|`not(x < y)`|\n",
    "|`and`| Menghasilkan `True` hanya jika kedua pernyataan bernilai `True`\t|`x < 5 and  x < 10`|\n",
    "|`or`|\tMenghasilkan `True` jika salah satu pernyataan bernilai `True`\t|`x < 5 or x > 4`|\t"
   ]
  },
  {
   "cell_type": "code",
   "execution_count": null,
   "id": "c9735304-eea0-45ae-b76b-18f15e6c790e",
   "metadata": {
    "id": "c9735304-eea0-45ae-b76b-18f15e6c790e",
    "slideshow": {
     "slide_type": "subslide"
    }
   },
   "outputs": [],
   "source": [
    "x = 5"
   ]
  },
  {
   "cell_type": "code",
   "execution_count": null,
   "id": "ad6db750-20fd-411b-ad9d-00f2014bd2bc",
   "metadata": {
    "id": "ad6db750-20fd-411b-ad9d-00f2014bd2bc",
    "outputId": "005ea8be-9e0d-42d7-8ddc-64d455fd803c",
    "slideshow": {
     "slide_type": "subslide"
    }
   },
   "outputs": [],
   "source": [
    "x < 10"
   ]
  },
  {
   "cell_type": "code",
   "execution_count": null,
   "id": "7a089a7d-0f06-4386-b290-9b8bd9bd8d7c",
   "metadata": {
    "id": "7a089a7d-0f06-4386-b290-9b8bd9bd8d7c",
    "outputId": "a020a83e-54cc-4ea7-9c9f-cf467dfe6a8f",
    "slideshow": {
     "slide_type": "subslide"
    }
   },
   "outputs": [],
   "source": [
    "not x < 10"
   ]
  },
  {
   "cell_type": "markdown",
   "id": "93d2f6bc-bdec-42fb-b7ca-f469bce803cb",
   "metadata": {
    "id": "93d2f6bc-bdec-42fb-b7ca-f469bce803cb",
    "slideshow": {
     "slide_type": "slide"
    }
   },
   "source": [
    "Boolean Logic\n",
    "\n",
    "| Condition 1 | Condition 2 | AND  | OR   |\n",
    "|-------------|-------------|------|------|\n",
    "| TRUE        | TRUE        | TRUE | TRUE |\n",
    "| TRUE        | FALSE       | FALSE| TRUE |\n",
    "| FALSE       | TRUE        | FALSE| TRUE |\n",
    "| FALSE       | FALSE       | FALSE| FALSE|"
   ]
  },
  {
   "cell_type": "code",
   "execution_count": null,
   "id": "e3d0e0a3-a707-4882-8b53-a2ab2f4d70e9",
   "metadata": {
    "id": "e3d0e0a3-a707-4882-8b53-a2ab2f4d70e9",
    "outputId": "8399c357-c03a-45d2-b2f1-f9bbf93aeb26",
    "slideshow": {
     "slide_type": "subslide"
    }
   },
   "outputs": [],
   "source": [
    "x > 2 and x < 4"
   ]
  },
  {
   "cell_type": "code",
   "execution_count": null,
   "id": "7beaf62a-3f15-482f-b038-d719e189d30b",
   "metadata": {
    "id": "7beaf62a-3f15-482f-b038-d719e189d30b",
    "outputId": "05f87bda-a862-4056-c56e-653b2f4b520b",
    "slideshow": {
     "slide_type": "subslide"
    }
   },
   "outputs": [],
   "source": [
    "x > 2 or x < 4"
   ]
  },
  {
   "cell_type": "markdown",
   "id": "89ab5faa-42b7-4c6c-8d91-2de0cdc540b6",
   "metadata": {
    "id": "89ab5faa-42b7-4c6c-8d91-2de0cdc540b6",
    "slideshow": {
     "slide_type": "slide"
    }
   },
   "source": [
    "### Strings"
   ]
  },
  {
   "cell_type": "markdown",
   "id": "b1e37e01-b42b-489f-9a8b-1ae83c864929",
   "metadata": {
    "id": "b1e37e01-b42b-489f-9a8b-1ae83c864929",
    "slideshow": {
     "slide_type": "subslide"
    }
   },
   "source": [
    "untuk deklarasi strings dalam python digunakan tanda kutip (' atau \")"
   ]
  },
  {
   "cell_type": "code",
   "execution_count": null,
   "id": "4faf1050-17f8-4b9a-a36b-31b138a9e5ab",
   "metadata": {
    "id": "4faf1050-17f8-4b9a-a36b-31b138a9e5ab",
    "outputId": "62f44d60-90eb-4c05-e357-e33fecf16e08",
    "slideshow": {
     "slide_type": "subslide"
    }
   },
   "outputs": [],
   "source": [
    "print(\"Hello World\")"
   ]
  },
  {
   "cell_type": "code",
   "execution_count": null,
   "id": "edf9c997-c58f-42c8-ae79-3a09d963e426",
   "metadata": {
    "id": "edf9c997-c58f-42c8-ae79-3a09d963e426",
    "outputId": "58c7f1bc-e153-4219-8e5d-ebdbd52a2999",
    "slideshow": {
     "slide_type": "subslide"
    }
   },
   "outputs": [],
   "source": [
    "print('Hello World')"
   ]
  },
  {
   "cell_type": "markdown",
   "id": "b096152a-190e-40cd-aab9-084191301557",
   "metadata": {
    "id": "b096152a-190e-40cd-aab9-084191301557",
    "slideshow": {
     "slide_type": "subslide"
    }
   },
   "source": [
    "bagaimana kalo strings kita terdapat tanda kutip didalamnya?"
   ]
  },
  {
   "cell_type": "code",
   "execution_count": null,
   "id": "4c423553-2963-45ae-b2f7-cc2daf2f2e14",
   "metadata": {
    "id": "4c423553-2963-45ae-b2f7-cc2daf2f2e14",
    "outputId": "cfb7a603-732a-40d6-ab59-3076444b412f",
    "slideshow": {
     "slide_type": "subslide"
    }
   },
   "outputs": [],
   "source": [
    "#cara yang salah\n",
    "\"kata Budi\"hai\"\""
   ]
  },
  {
   "cell_type": "code",
   "execution_count": null,
   "id": "52e1f671-48ae-432f-8618-9b2f0902b72b",
   "metadata": {
    "id": "52e1f671-48ae-432f-8618-9b2f0902b72b",
    "outputId": "05073770-9eae-4b99-fd2f-cf638702a63a",
    "slideshow": {
     "slide_type": "subslide"
    }
   },
   "outputs": [],
   "source": [
    "#cara yang benar\n",
    "'kata budi:\"hai\"'"
   ]
  },
  {
   "cell_type": "markdown",
   "id": "dc77a295-da1f-40a3-b61b-911857b875ef",
   "metadata": {
    "id": "dc77a295-da1f-40a3-b61b-911857b875ef",
    "slideshow": {
     "slide_type": "slide"
    }
   },
   "source": [
    "#### Strings Operations"
   ]
  },
  {
   "cell_type": "markdown",
   "id": "e96be2bd-c2f4-4209-9609-32f6d24acb6c",
   "metadata": {
    "id": "e96be2bd-c2f4-4209-9609-32f6d24acb6c",
    "slideshow": {
     "slide_type": "subslide"
    }
   },
   "source": [
    "##### Penggabungan String"
   ]
  },
  {
   "cell_type": "code",
   "execution_count": null,
   "id": "c857f26f-558a-4875-8143-2761e66f549f",
   "metadata": {
    "id": "c857f26f-558a-4875-8143-2761e66f549f",
    "outputId": "f500d00d-716f-4320-867a-e753c534c49d",
    "slideshow": {
     "slide_type": "subslide"
    }
   },
   "outputs": [],
   "source": [
    "print(\"halo\" + \"semua\")"
   ]
  },
  {
   "cell_type": "code",
   "execution_count": null,
   "id": "cac76c2f-7dc3-49fe-99e0-b8e0da490d21",
   "metadata": {
    "id": "cac76c2f-7dc3-49fe-99e0-b8e0da490d21",
    "outputId": "69cf6238-8698-4238-d765-4882c5e02c63",
    "slideshow": {
     "slide_type": "subslide"
    }
   },
   "outputs": [],
   "source": [
    "print(\"halo\" + \" \" + \"semua\")"
   ]
  },
  {
   "cell_type": "code",
   "execution_count": null,
   "id": "7adcf040",
   "metadata": {
    "id": "7adcf040",
    "outputId": "d504d320-361a-4302-ade7-bb05bc25cd26",
    "slideshow": {
     "slide_type": "subslide"
    }
   },
   "outputs": [],
   "source": [
    "print(\"halo\",\"semua\")"
   ]
  },
  {
   "cell_type": "markdown",
   "id": "16cc110f-ca3b-40fd-9870-21145bf4bb9c",
   "metadata": {
    "id": "16cc110f-ca3b-40fd-9870-21145bf4bb9c",
    "slideshow": {
     "slide_type": "subslide"
    }
   },
   "source": [
    "bagaimana kalo kita ingin menambah angka kedalam teks kita?"
   ]
  },
  {
   "cell_type": "code",
   "execution_count": null,
   "id": "c83516d0-2505-449e-8c2c-78bc183459d6",
   "metadata": {
    "id": "c83516d0-2505-449e-8c2c-78bc183459d6",
    "outputId": "6d7f5124-a991-4062-98e8-e825d34fb8cf",
    "slideshow": {
     "slide_type": "subslide"
    },
    "tags": []
   },
   "outputs": [],
   "source": [
    "print(\"Umur Saya\" + 25)"
   ]
  },
  {
   "cell_type": "code",
   "execution_count": null,
   "id": "bd97d0c8-f5df-4c54-aed1-847a55926949",
   "metadata": {
    "id": "bd97d0c8-f5df-4c54-aed1-847a55926949",
    "slideshow": {
     "slide_type": "subslide"
    }
   },
   "outputs": [],
   "source": [
    "print (\"Umur Saya\",25)\n",
    "print (\"Umur Saya \" + str(25))\n",
    "print (\"Umur Saya %s \" % 25)"
   ]
  },
  {
   "cell_type": "code",
   "execution_count": null,
   "id": "c7342f2b-f829-44cf-b6e6-e201212043d0",
   "metadata": {
    "id": "c7342f2b-f829-44cf-b6e6-e201212043d0",
    "slideshow": {
     "slide_type": "subslide"
    }
   },
   "outputs": [],
   "source": [
    "#kita juga bisa mengalikan string dengan angka yang akan menampilkan string sebanyak angka\n",
    "print(\"halo \"*5)"
   ]
  },
  {
   "cell_type": "markdown",
   "id": "3201e288-c0e4-438d-9e4e-bf23eaad005e",
   "metadata": {
    "id": "3201e288-c0e4-438d-9e4e-bf23eaad005e",
    "slideshow": {
     "slide_type": "slide"
    }
   },
   "source": [
    "#### String Methods\n",
    "\n",
    "> Semua metode string mengembalikan nilai baru. Mereka tidak mengubah string asli.\n",
    "\n",
    "|Metode|Deskripsi|\n",
    "| :-: | :-: | \n",
    "|capitalize()| Mengubah karakter pertama menjadi huruf besar|\n",
    "|title()|Mengubah huruf pertama pada setiap kata menjadi huruf besar|\n",
    "|lower()|Mengubah semua karakter  menjadi huruf kecil|\n",
    "|upper()|Mengubah semua karakter menjadi huruf besar|\n",
    "|strip()|Menghilangkan spasi berlebih|\n",
    "|lstrip()|Menghilangkan spasi berlebih pada bagian kiri string|\n",
    "|rstrip()|Menghilangkan spasi berlebih pada bagian kanan string|\n",
    "|split()|Memotong string pada karakter yang ditentukan, dan dioutput sebagai list|\n",
    "|startswith()|Akan mengembalikan nilai True bila string diawali kata tertentu yang kita tentukan|\n",
    "|endswith()|Akan mengembalikan nilai True bila string diakhiri kata tertentu yang kita tentukan|\n",
    "|join()|Menggabungkan semua anggota menjadi string|\n",
    "\n",
    "sumber: https://www.w3schools.com/python/python_ref_string.asp"
   ]
  },
  {
   "cell_type": "code",
   "execution_count": null,
   "id": "c611d2aa-f001-4dad-8ac4-bf8a847b9e5f",
   "metadata": {
    "id": "c611d2aa-f001-4dad-8ac4-bf8a847b9e5f",
    "slideshow": {
     "slide_type": "subslide"
    }
   },
   "outputs": [],
   "source": [
    "A = 'python for data analytics'\n",
    "A.capitalize()"
   ]
  },
  {
   "cell_type": "code",
   "execution_count": null,
   "id": "b5fb235b-0834-4212-896c-696ca9da3924",
   "metadata": {
    "id": "b5fb235b-0834-4212-896c-696ca9da3924",
    "slideshow": {
     "slide_type": "subslide"
    },
    "tags": []
   },
   "outputs": [],
   "source": [
    "A.title()"
   ]
  },
  {
   "cell_type": "code",
   "execution_count": null,
   "id": "caf47871-a0db-4264-aca9-80edc0ed2507",
   "metadata": {
    "id": "caf47871-a0db-4264-aca9-80edc0ed2507",
    "slideshow": {
     "slide_type": "subslide"
    }
   },
   "outputs": [],
   "source": [
    "A.upper()\n",
    "A = A.upper() "
   ]
  },
  {
   "cell_type": "code",
   "execution_count": null,
   "id": "74990ceb-84ef-42a2-a85b-545387933de1",
   "metadata": {
    "id": "74990ceb-84ef-42a2-a85b-545387933de1",
    "outputId": "48f8e143-be1c-4c8a-dd84-17414702d679",
    "slideshow": {
     "slide_type": "subslide"
    }
   },
   "outputs": [],
   "source": [
    "A"
   ]
  },
  {
   "cell_type": "code",
   "execution_count": null,
   "id": "1ffe76b6-250a-429a-93c3-4366d422ec39",
   "metadata": {
    "id": "1ffe76b6-250a-429a-93c3-4366d422ec39",
    "outputId": "4a3abf32-33ed-4d20-cfaa-9dee3020f7ea",
    "slideshow": {
     "slide_type": "subslide"
    }
   },
   "outputs": [],
   "source": [
    "A.lower()"
   ]
  },
  {
   "cell_type": "code",
   "execution_count": null,
   "id": "24c88f7b-90fb-4271-9980-93dd6e2281c0",
   "metadata": {
    "id": "24c88f7b-90fb-4271-9980-93dd6e2281c0",
    "outputId": "1f16ce50-6950-4c4b-9cd6-c4b59e45eb2f",
    "slideshow": {
     "slide_type": "subslide"
    },
    "tags": []
   },
   "outputs": [],
   "source": [
    "A = '    python for data analytics   '\n",
    "A.strip()"
   ]
  },
  {
   "cell_type": "code",
   "execution_count": null,
   "id": "8881520f-d3ce-4180-90c1-992cc2c7aef1",
   "metadata": {
    "id": "8881520f-d3ce-4180-90c1-992cc2c7aef1",
    "outputId": "e285d3a7-d5e3-4cd3-ddc3-a81077e7b33c",
    "slideshow": {
     "slide_type": "subslide"
    }
   },
   "outputs": [],
   "source": [
    "A.lstrip()"
   ]
  },
  {
   "cell_type": "code",
   "execution_count": null,
   "id": "c91b50b2-33d2-45ee-9822-3da51d146c95",
   "metadata": {
    "id": "c91b50b2-33d2-45ee-9822-3da51d146c95",
    "outputId": "69f3708a-6363-4cb2-c140-cde2e9fd5fa8",
    "slideshow": {
     "slide_type": "subslide"
    }
   },
   "outputs": [],
   "source": [
    "A.rstrip()"
   ]
  },
  {
   "cell_type": "code",
   "execution_count": null,
   "id": "ed3740f3-2b59-4b39-a729-fa133f32ee93",
   "metadata": {
    "id": "ed3740f3-2b59-4b39-a729-fa133f32ee93",
    "outputId": "19c6cfbe-7e4a-49a0-8121-e1fc39c6d099",
    "slideshow": {
     "slide_type": "subslide"
    }
   },
   "outputs": [],
   "source": [
    "A = 'python for, data analytics'\n",
    "A.split(',')"
   ]
  },
  {
   "cell_type": "code",
   "execution_count": null,
   "id": "pgoSMwKYrpcI",
   "metadata": {
    "colab": {
     "base_uri": "https://localhost:8080/"
    },
    "id": "pgoSMwKYrpcI",
    "outputId": "f0fc1e28-93d8-4065-bb14-47fa6aa79ff8",
    "slideshow": {
     "slide_type": "subslide"
    }
   },
   "outputs": [],
   "source": [
    "A = 'python for, data analytics'\n",
    "A.startswith('python')"
   ]
  },
  {
   "cell_type": "code",
   "execution_count": null,
   "id": "ikxAVzEcr161",
   "metadata": {
    "colab": {
     "base_uri": "https://localhost:8080/"
    },
    "id": "ikxAVzEcr161",
    "outputId": "548dd5b9-4830-4c68-ff47-bbdd48c07863",
    "slideshow": {
     "slide_type": "subslide"
    }
   },
   "outputs": [],
   "source": [
    "A = 'python for, data analytics'\n",
    "A.endswith('ics')"
   ]
  },
  {
   "cell_type": "markdown",
   "id": "6098e72e-adfb-410e-867c-6056eb5518ea",
   "metadata": {
    "id": "6098e72e-adfb-410e-867c-6056eb5518ea",
    "slideshow": {
     "slide_type": "slide"
    }
   },
   "source": [
    "---\n",
    "**Latihan**"
   ]
  },
  {
   "cell_type": "code",
   "execution_count": null,
   "id": "b7f42486-8ee2-4a21-9cc6-08fcff84327f",
   "metadata": {
    "colab": {
     "base_uri": "https://localhost:8080/"
    },
    "id": "b7f42486-8ee2-4a21-9cc6-08fcff84327f",
    "outputId": "e5034274-21bf-4d2a-fe9d-a666cbafb4f6",
    "slideshow": {
     "slide_type": "subslide"
    }
   },
   "outputs": [],
   "source": [
    "#gabungkan ketiga variabel tersebut menjadi 'Python For Data Analytics' (perhatikan huruf kapital)\n",
    "A = 'PYTHON'\n",
    "B = 'for'\n",
    "C = 'Data Analytics'\n",
    "\n",
    "print(...)"
   ]
  },
  {
   "cell_type": "markdown",
   "id": "0b624327",
   "metadata": {
    "id": "0b624327",
    "slideshow": {
     "slide_type": "slide"
    }
   },
   "source": [
    "### DataTypes\n",
    "\n",
    "Terdapat empat built-in data types yang digunakan untuk menyimpan data di Python..\n",
    "1. List,\n",
    "2. Tuple, \n",
    "3. Set, dan\n",
    "4. Dictionary\n",
    "\n",
    "Perbedaan dari keempat tipe data di atas adalah :\n",
    "\n",
    "| **Pembeda**           | **List**          | **Tuple**              | **Set**                 | **Dictonary**                                |\n",
    "|:------------------|:--------------|:-------------------|:--------------------|:-----------------------------------------|\n",
    "| Bentuk            | [a,b,c]       | (a,b,c)            | {a,b,c}             | {a:x, b:y, c:z}                          |\n",
    "| Duplikasi Item    | Diperbolehkan | Diperbolehkan      | Tidak diperbolehkan | Tidak diperbolehkan (kunci maupun nilai) |\n",
    "| Order/Unordered   | Ordered       | Ordered            | Unordered           | Unordered                                |\n",
    "| Keterubahan Nilai | Dapat Diubah  | Tidak Dapat Diubah | Dapat Diubah        | Dapat Diubah                             |"
   ]
  },
  {
   "cell_type": "markdown",
   "id": "3181ee3e-2d4d-4ec2-82fd-b3cdd88b3177",
   "metadata": {
    "id": "3181ee3e-2d4d-4ec2-82fd-b3cdd88b3177",
    "slideshow": {
     "slide_type": "slide"
    }
   },
   "source": [
    "### List\n",
    "\n",
    "> Untuk menyimpan lebih dari satu value dalam satu variabel. Value dapat diakses menggunakan indeks urutan serta nilai dalam list dapat ditamba, dihapus, dan diubah. List ditandai dengan penggunaan ```[]```."
   ]
  },
  {
   "cell_type": "code",
   "execution_count": null,
   "id": "fe2e2071-e8bf-45d8-97ac-267dd6774a8f",
   "metadata": {
    "colab": {
     "base_uri": "https://localhost:8080/"
    },
    "id": "fe2e2071-e8bf-45d8-97ac-267dd6774a8f",
    "outputId": "dcaffe2d-6f16-4423-f8dc-85daab3fce4c",
    "slideshow": {
     "slide_type": "subslide"
    }
   },
   "outputs": [],
   "source": [
    "# membuat list dengan value tipe data int\n",
    "int_list = [1, 2, 3, 4, 5]\n",
    "print(int_list)\n",
    "print(type(int_list))"
   ]
  },
  {
   "cell_type": "code",
   "execution_count": null,
   "id": "b6878b1f-0872-4435-9ba8-4505ef1d5988",
   "metadata": {
    "colab": {
     "base_uri": "https://localhost:8080/"
    },
    "id": "b6878b1f-0872-4435-9ba8-4505ef1d5988",
    "outputId": "1fa3053c-af53-4895-de16-621a975efec9",
    "slideshow": {
     "slide_type": "subslide"
    }
   },
   "outputs": [],
   "source": [
    "# membuat list dengan value tipe data str\n",
    "str_list = list(('a', 'b', 'c', 'd'))\n",
    "print(str_list)\n",
    "print(type(str_list))"
   ]
  },
  {
   "cell_type": "code",
   "execution_count": null,
   "id": "d41c295e-80e7-41e7-b7ea-b43b9eafa8b3",
   "metadata": {
    "colab": {
     "base_uri": "https://localhost:8080/"
    },
    "id": "d41c295e-80e7-41e7-b7ea-b43b9eafa8b3",
    "outputId": "a21214fc-43b0-4ad5-8860-11cff9341831",
    "slideshow": {
     "slide_type": "subslide"
    }
   },
   "outputs": [],
   "source": [
    "# list juga mampu menampung value dengan tipe data berbeda\n",
    "mix_list = [1, 2, 'a', 'b']\n",
    "print(mix_list)\n",
    "print(type(mix_list))"
   ]
  },
  {
   "cell_type": "code",
   "execution_count": null,
   "id": "264b72e0-c493-4d9d-9783-68a9d6583c9c",
   "metadata": {
    "colab": {
     "base_uri": "https://localhost:8080/"
    },
    "id": "264b72e0-c493-4d9d-9783-68a9d6583c9c",
    "outputId": "64243bdf-574b-4aab-f57d-227316341b83",
    "slideshow": {
     "slide_type": "subslide"
    }
   },
   "outputs": [],
   "source": [
    "# list kemudian mampu menampung list dalam list\n",
    "list_inlist =  [1, 2, [2.6, 8], 'a']\n",
    "print(list_inlist)\n",
    "print(type(list_inlist))"
   ]
  },
  {
   "cell_type": "markdown",
   "id": "7ece1539-e194-418e-a440-60d1374d7c20",
   "metadata": {
    "id": "7ece1539-e194-418e-a440-60d1374d7c20",
    "slideshow": {
     "slide_type": "subslide"
    }
   },
   "source": [
    "List dapat dimodifikasi menggunakan ```method```. Berikut method umum yang disediakan oleh Python:\n",
    "\n",
    "|Method| Deskripsi|Contoh |Hasil |\n",
    "|:--|:--|:--|:--|\n",
    "|append()|\tMenambahkan elemen ke dalam list pada urutan paling belakang | `lst.append('N')` | `lst = ['Y', 'O', 'S', 'A', 'N']`|\n",
    "|clear()|\tMenghapus seluruh elemen dalam list | `lst.clear()` | `lst = []`\n",
    "|copy()|\tMenghasilkan kopi dari list | `lst2 = lst.copy()` | `lst2 = ['Y', 'O', 'S', 'A']`|\n",
    "|count()|\tMenghasilkan jumlah elemen dalam satu list | `lst.count('Y')` | `1` |\n",
    "|extend()|\tMenggabungkan elemen iterabel ke dalam list | `lst.extend(['N', 'G'])` | `lst = ['Y', 'O', 'S', 'A', 'N', 'G']`|\n",
    "|index()|\tMenemukan lokasi pertama suatu elemen dalam list | `lst.index('S')` | `2` |\n",
    "|insert()|\tMenambahkan elemen ke dalam posisi tertentu dalam list | `lst.insert(3, 'I')` | `lst = ['Y', 'O', 'S', 'I', 'A']`|\n",
    "|pop()|\tMenghapus elemen list yang berada dalam posisi terkait | `lst.pop(2)` | `lst = ['Y', 'O', 'A']`|\n",
    "|remove()|\tMenghapus item pertama dengan nilai tertentu dalam suatu list | `lst.remove('O')` | `lst = ['Y', 'S', 'A']`|\n",
    "|reverse()|\tmembalik urutan list | `lst.reverse()` | `lst = ['A', 'S', 'O', 'Y']` |\n",
    "|sort()|\tMengurutkan elemen list | `lst.sort()` |`lst = ['A', 'O', 'S', 'Y']`|"
   ]
  },
  {
   "cell_type": "code",
   "execution_count": null,
   "id": "d9a112aa-ad4d-486c-9aa2-559d59086e35",
   "metadata": {
    "id": "d9a112aa-ad4d-486c-9aa2-559d59086e35",
    "slideshow": {
     "slide_type": "subslide"
    }
   },
   "outputs": [],
   "source": [
    "# kita akan mencoba menambah value ke dalam list menggunakan .append()\n",
    "int_list = [1, 2, 3, 4, 5]\n",
    "int_list.append(0)"
   ]
  },
  {
   "cell_type": "code",
   "execution_count": null,
   "id": "87223691-def9-4ff0-8700-06d96ebcc468",
   "metadata": {
    "colab": {
     "base_uri": "https://localhost:8080/"
    },
    "id": "87223691-def9-4ff0-8700-06d96ebcc468",
    "outputId": "a5df86b9-b11f-4e88-e475-8cdb6c761d1c",
    "slideshow": {
     "slide_type": "subslide"
    }
   },
   "outputs": [],
   "source": [
    "print(int_list)"
   ]
  },
  {
   "cell_type": "code",
   "execution_count": null,
   "id": "ab58ebe8-8eb8-4a29-98cd-e4d2b8eb2f02",
   "metadata": {
    "id": "ab58ebe8-8eb8-4a29-98cd-e4d2b8eb2f02",
    "slideshow": {
     "slide_type": "subslide"
    }
   },
   "outputs": [],
   "source": [
    "# kita akan mencoba mengurutkan value di dalam list menggunakan .sort()\n",
    "int_list.sort()"
   ]
  },
  {
   "cell_type": "code",
   "execution_count": null,
   "id": "2c568c2a-4cd6-4775-bab6-81bbf2a206fa",
   "metadata": {
    "colab": {
     "base_uri": "https://localhost:8080/"
    },
    "id": "2c568c2a-4cd6-4775-bab6-81bbf2a206fa",
    "outputId": "0134715c-550c-403c-eb32-da459b1c3e1c",
    "slideshow": {
     "slide_type": "subslide"
    }
   },
   "outputs": [],
   "source": [
    "print(int_list)"
   ]
  },
  {
   "cell_type": "code",
   "execution_count": null,
   "id": "df30c291-88dd-467c-a09b-782e5092dd39",
   "metadata": {
    "colab": {
     "base_uri": "https://localhost:8080/"
    },
    "id": "df30c291-88dd-467c-a09b-782e5092dd39",
    "outputId": "de44d8fb-44d3-41bd-e281-2a22e3c500b8",
    "slideshow": {
     "slide_type": "subslide"
    }
   },
   "outputs": [],
   "source": [
    "# kita akan mencoba mengalikan variable int_list\n",
    "int_list *= 3\n",
    "print(int_list)\n",
    "# list yang dihasilkan, bukan mengalikan masing-masing value di dalam int_list sebanyak 3 kali\n",
    "# tapi melakukan pengulangan print valuenya sebanyak 3 kali"
   ]
  },
  {
   "cell_type": "markdown",
   "id": "08e7da49-82c6-4d49-a1b0-b5337457bb70",
   "metadata": {
    "id": "08e7da49-82c6-4d49-a1b0-b5337457bb70",
    "slideshow": {
     "slide_type": "slide"
    }
   },
   "source": [
    "### Tuple"
   ]
  },
  {
   "cell_type": "markdown",
   "id": "cd97302b-863a-4c3a-97a5-222f36022e84",
   "metadata": {
    "id": "cd97302b-863a-4c3a-97a5-222f36022e84",
    "slideshow": {
     "slide_type": "subslide"
    }
   },
   "source": [
    "> Kumpulan objek Python seperti ```list```, namun tidak dapat diubah nilainya setelah didefinisikan (immutable). Tuple ditandai dengan penggunaan ```()```."
   ]
  },
  {
   "cell_type": "code",
   "execution_count": null,
   "id": "28f61351-e8ff-445d-94f7-fa5ce00e75c4",
   "metadata": {
    "id": "28f61351-e8ff-445d-94f7-fa5ce00e75c4",
    "outputId": "075aca0d-beab-49f8-f4ce-ba0dc49f4792",
    "slideshow": {
     "slide_type": "subslide"
    }
   },
   "outputs": [],
   "source": [
    "int_tuple = (1, 2, 3, 4, 5)\n",
    "print(int_tuple)\n",
    "print(type(int_tuple))"
   ]
  },
  {
   "cell_type": "code",
   "execution_count": null,
   "id": "4363976a-327e-4af2-9a1d-61ae0cb6f478",
   "metadata": {
    "id": "4363976a-327e-4af2-9a1d-61ae0cb6f478",
    "outputId": "c4bfa8ca-38d4-456b-cc51-5d573ee5664d",
    "slideshow": {
     "slide_type": "subslide"
    }
   },
   "outputs": [],
   "source": [
    "# walaupun tuple itu immutable\n",
    "# kita bisa merubah tipenya menjadi list, dictionary, dsb\n",
    "# kita akan mencoba merubah int_tuple menjadi list\n",
    "list_int_tuple = list(int_tuple)\n",
    "print(list_int_tuple)\n",
    "print(type(list_int_tuple))"
   ]
  },
  {
   "cell_type": "markdown",
   "id": "b024b6be-338f-40e5-a104-6cb23d29d7df",
   "metadata": {
    "id": "b024b6be-338f-40e5-a104-6cb23d29d7df",
    "slideshow": {
     "slide_type": "slide"
    }
   },
   "source": [
    "### Set\n",
    "\n",
    "> Kumpulan object Python yang memiliki nilai unik ```(tidak menerima duplikasi)``` dan elemennya tidak dapat diakses dengan indeks."
   ]
  },
  {
   "cell_type": "code",
   "execution_count": null,
   "id": "265824ab-d166-4d6f-87ac-308be5432b59",
   "metadata": {
    "id": "265824ab-d166-4d6f-87ac-308be5432b59",
    "outputId": "cddc2a34-8bd6-431f-9bee-4dcd336f305c",
    "slideshow": {
     "slide_type": "subslide"
    }
   },
   "outputs": [],
   "source": [
    "# perhatikan interaksi yang terjadi\n",
    "# kita akan membuat variable set dengan value yang duplicate di dalamnya\n",
    "int_set = set((1, 1, 2, 2, 3, 3))\n",
    "print(int_set)\n",
    "print(type(int_set))"
   ]
  },
  {
   "cell_type": "markdown",
   "id": "2ab746ce-8b5a-45ae-bda1-708bec497580",
   "metadata": {
    "id": "2ab746ce-8b5a-45ae-bda1-708bec497580",
    "slideshow": {
     "slide_type": "subslide"
    }
   },
   "source": [
    "Set dapat dimodifikasi menggunakan ```method```. Berikut method umum yang disediakan oleh Python:\n",
    "\n",
    "|Method| Deskripsi|Contoh |\n",
    "|:--|:--|:--|\n",
    "|add()|\tMenambahkan elemen ke dalam set pada urutan paling belakang | `a.update(6)` |\n",
    "|clear()|\tMenghapus seluruh elemen dalam set | `a.clear()` |\n",
    "|remove()|\tMenghapus elemen  tertentu dalam suatu set | `lst.remove('O')` | `lst = ['Y', 'O', 'S', 'A']`|\n",
    "|update()|\tMenambahkan iterable ke dalam set | `a.update([5, 6, 7])` |"
   ]
  },
  {
   "cell_type": "code",
   "execution_count": null,
   "id": "51329b24-7c6f-4636-b6d0-67e3a61d6a00",
   "metadata": {
    "id": "51329b24-7c6f-4636-b6d0-67e3a61d6a00",
    "outputId": "b1c79735-446e-4018-b475-86c5920ef6c2",
    "slideshow": {
     "slide_type": "subslide"
    }
   },
   "outputs": [],
   "source": [
    "# kita akan mencoba menghapus value menggunakan .remove()\n",
    "int_set.remove(1)\n",
    "print(int_set)"
   ]
  },
  {
   "cell_type": "markdown",
   "id": "77849af1-b9f7-4a00-bcc7-5f43e55acb72",
   "metadata": {
    "id": "77849af1-b9f7-4a00-bcc7-5f43e55acb72",
    "slideshow": {
     "slide_type": "slide"
    }
   },
   "source": [
    "### Dictionary\n",
    "\n",
    "> Kumpulan object yang terdiri dari pasangan key (unik) dan value (nilai). Nilai dapat berupa text, number, boolean, maupun list. Dictionary ditandai dengan penggunaan ```{}```."
   ]
  },
  {
   "cell_type": "code",
   "execution_count": null,
   "id": "0394250e-d3cd-4103-93fe-777fdcf548a3",
   "metadata": {
    "id": "0394250e-d3cd-4103-93fe-777fdcf548a3",
    "slideshow": {
     "slide_type": "subslide"
    }
   },
   "outputs": [],
   "source": [
    "num_of_employee = {'SETJEN' : 2665, 'DJP' : 45960, 'ITJEN': 715, 'DJPK': 547}"
   ]
  },
  {
   "cell_type": "code",
   "execution_count": null,
   "id": "5805f3ac-c190-49a3-8c57-d2a21e7b6b27",
   "metadata": {
    "id": "5805f3ac-c190-49a3-8c57-d2a21e7b6b27",
    "outputId": "6bcc2468-4a42-4ea8-ae69-32730943e547",
    "slideshow": {
     "slide_type": "subslide"
    }
   },
   "outputs": [],
   "source": [
    "# kita akan mencoba\n",
    "print(type(num_of_employee))"
   ]
  },
  {
   "cell_type": "code",
   "execution_count": null,
   "id": "93828ee4-0e62-4fd1-8657-17e628eaff1a",
   "metadata": {
    "id": "93828ee4-0e62-4fd1-8657-17e628eaff1a",
    "outputId": "630ba6c2-1629-4981-e258-a5d2f487411b",
    "slideshow": {
     "slide_type": "subslide"
    }
   },
   "outputs": [],
   "source": [
    "# kita dapat mengakses nilai(value) dari key tertentu dengan cara berikut\n",
    "print(num_of_employee['SETJEN'])"
   ]
  },
  {
   "cell_type": "code",
   "execution_count": null,
   "id": "70e67162-666f-4fec-8c83-ba5e7248e8a9",
   "metadata": {
    "id": "70e67162-666f-4fec-8c83-ba5e7248e8a9",
    "outputId": "d21dc455-87f2-409e-ab13-3fbf255159e6",
    "slideshow": {
     "slide_type": "subslide"
    }
   },
   "outputs": [],
   "source": [
    "# kemudian kita bisa melakuan mengakses key dan value di dalam dictionary menggunakan looping\n",
    "for key, value in num_of_employee.items():\n",
    "    print(key)"
   ]
  },
  {
   "cell_type": "code",
   "execution_count": null,
   "id": "63263080-ed0d-4176-a252-5847109be124",
   "metadata": {
    "colab": {
     "base_uri": "https://localhost:8080/"
    },
    "id": "63263080-ed0d-4176-a252-5847109be124",
    "outputId": "a31f9385-379d-4875-c28d-45fe7e64a948",
    "slideshow": {
     "slide_type": "subslide"
    }
   },
   "outputs": [],
   "source": [
    "# kemudian kita bisa melakuan mengakses key dan value di dalam dictionary menggunakan looping\n",
    "# looping akan dibahas lebih dalam kemudian\n",
    "for key, value in num_of_employee.items():\n",
    "    print(value)"
   ]
  },
  {
   "cell_type": "code",
   "execution_count": null,
   "id": "dadb9a83-4776-458d-97a7-281e07b21545",
   "metadata": {
    "id": "dadb9a83-4776-458d-97a7-281e07b21545",
    "outputId": "c35f2332-3fcd-4eb5-f2e0-28d67f8fd61e",
    "slideshow": {
     "slide_type": "subslide"
    }
   },
   "outputs": [],
   "source": [
    "# jika kita ingin menambahkan key dan value baru ke dalam dictionary\n",
    "num_of_employee['BPPK'] = 1200\n",
    "\n",
    "num_of_employee"
   ]
  },
  {
   "cell_type": "markdown",
   "id": "83azihrYn3pQ",
   "metadata": {
    "id": "83azihrYn3pQ",
    "slideshow": {
     "slide_type": "subslide"
    }
   },
   "source": [
    "Dictionary dapat dimodifikasi menggunakan ```method```. Berikut method umum yang disediakan oleh Python:\n",
    "\n",
    "|Method| Deskripsi|Contoh |Hasil |\n",
    "|:--|:--|:--|:--|\n",
    "|clear()|\tMenghapus seluruh elemen dalam dictionary | `thisdict.clear()` | `thisdict = {}`|\n",
    "|copy()|\tMenghasilkan kopi dari dictionary | `thisdict2 = thisdict.copy()` | `thisdict2 = {'SETJEN' : 2665, 'DJP' : 45960, 'ITJEN': 715, 'DJPK': 547}`|\n",
    "|fromkeys()|\tMembuat dictionary dari keys dan value yang telah ditetapkan | `thisdict = dict.fromkeys(keys, value)` | `thisdict = {'key1': value, 'key2': value, 'key3': value}` |\n",
    "|get()|\tMendapatkan value dari sebuah key | `thisdict.get('SETJEN')` | `2665`|\n",
    "|items()|\tMenampilkan  pasangan key dan value dalam dictionary | `thisdict.items()` | `dict_items([('SETJEN', 2665), ('DJP', 45960), ('ITJEN', 715), ('DJPK', 547)])` |\n",
    "|keys()|\tMenampilkan  keys dalam dictionary | `thisdict.keys()` | `dict_keys(['SETJEN', 'DJP', 'ITJEN', 'DJPK'])`|\n",
    "|pop()|\tMenghapus elemen dictionary yang mempunyai key terkait | `thisdict.pop('DJPK)` | `thisdict = {'SETJEN': 2665, 'DJP': 45960, 'ITJEN': 715}`|\n",
    "|popitem()|\tMenghapus pasangan key-value terakhir | `thisdict.popitem()` | `thisdict = {'SETJEN': 2665, 'DJP': 45960}`|\n",
    "|setdefault()|\tMendapatkan value dari sebuah key jika sudah ada, jika belum ada, menambah key tersebut ke dictionary dengan  value yang ditentukan | `thisdict.setdefault('MENTERI', 1)` | `thisdict = {'SETJEN': 2665, 'DJP': 45960, 'MENTERI': 1} ` |\n",
    "|update()|\tMemasukkan items (key-value) ke dictionary | `thisdict.update({'DJA' : 1000})` |`thisdict = {'SETJEN': 2665, 'DJP': 45960, 'MENTERI': 1, 'DJA': 1000}`|\n",
    "|values()|\tMenampilkan values dalam dictionary | `thisdict.values()` |`dict_values([2665, 45960, 1, 1000])`|"
   ]
  },
  {
   "cell_type": "markdown",
   "id": "lXxK2HD7eq8K",
   "metadata": {
    "id": "lXxK2HD7eq8K",
    "slideshow": {
     "slide_type": "slide"
    }
   },
   "source": [
    "## Konversi antar tipe data\n"
   ]
  },
  {
   "cell_type": "code",
   "execution_count": null,
   "id": "Obpase7Je9dm",
   "metadata": {
    "colab": {
     "base_uri": "https://localhost:8080/"
    },
    "id": "Obpase7Je9dm",
    "outputId": "9f4050a0-42f7-4016-8605-1fc5fa4cf8e1",
    "slideshow": {
     "slide_type": "subslide"
    }
   },
   "outputs": [],
   "source": [
    "print(float(1))\n",
    "print(int(1.5))\n",
    "print(float('2.5'))\n",
    "print(str(3.5))"
   ]
  },
  {
   "cell_type": "code",
   "execution_count": null,
   "id": "XT8Vzi6kflYT",
   "metadata": {
    "colab": {
     "base_uri": "https://localhost:8080/"
    },
    "id": "XT8Vzi6kflYT",
    "outputId": "635278b1-bc71-4a96-9577-88af1fbd1248",
    "slideshow": {
     "slide_type": "subslide"
    }
   },
   "outputs": [],
   "source": [
    "print(set([1,2,3,4,4,5]))\n",
    "print(list('Yosan'))\n",
    "print(dict([[\"Apel\",\"Buah\"],[\"Bayam\",\"Sayur\"]]))"
   ]
  },
  {
   "cell_type": "markdown",
   "id": "f7ec1d0b-c4a8-4987-86cb-00625a77355d",
   "metadata": {
    "id": "f7ec1d0b-c4a8-4987-86cb-00625a77355d",
    "slideshow": {
     "slide_type": "slide"
    }
   },
   "source": [
    "## Indexing dan slicing"
   ]
  },
  {
   "cell_type": "markdown",
   "id": "9e135085-d8bd-423e-a4f6-300d9236a6b8",
   "metadata": {
    "id": "9e135085-d8bd-423e-a4f6-300d9236a6b8",
    "slideshow": {
     "slide_type": "subslide"
    }
   },
   "source": [
    "### Indexing\n",
    "\n",
    "> Posisi atas value, Python mengenal bahwa indeks pertama adalah ```0``` bukan ```1```."
   ]
  },
  {
   "cell_type": "code",
   "execution_count": null,
   "id": "9759e667-763c-4b56-83d7-6d45f039abfe",
   "metadata": {
    "id": "9759e667-763c-4b56-83d7-6d45f039abfe",
    "outputId": "166797c2-d2fd-441d-d2b4-7aaaf9faea7d",
    "slideshow": {
     "slide_type": "subslide"
    }
   },
   "outputs": [],
   "source": [
    "#contoh kita akan membuat sebuah list\n",
    "int_list = [1, 2, 3, 4, 5, 0]\n",
    "print(int_list)"
   ]
  },
  {
   "cell_type": "code",
   "execution_count": null,
   "id": "a08d39bf-c8e8-49a5-abc7-07f59cf15065",
   "metadata": {
    "id": "a08d39bf-c8e8-49a5-abc7-07f59cf15065",
    "outputId": "ff813554-cc5d-49bd-b106-3ecb2e976115",
    "slideshow": {
     "slide_type": "subslide"
    }
   },
   "outputs": [],
   "source": [
    "# kita akan mencoba print indexing pertama dari int_list\n",
    "print(int_list[0])"
   ]
  },
  {
   "cell_type": "code",
   "execution_count": null,
   "id": "3bcb0bd1-d487-4aab-85aa-f3e031c81e68",
   "metadata": {
    "id": "3bcb0bd1-d487-4aab-85aa-f3e031c81e68",
    "outputId": "652d30cf-5713-4705-ae9c-df5229075acd",
    "slideshow": {
     "slide_type": "subslide"
    }
   },
   "outputs": [],
   "source": [
    "# kita akan mencoba mencari indexing terakhir dari int_list\n",
    "print(int_list[-1])"
   ]
  },
  {
   "cell_type": "code",
   "execution_count": null,
   "id": "bca33e42-777e-4143-98a7-7110bdce3cfe",
   "metadata": {
    "id": "bca33e42-777e-4143-98a7-7110bdce3cfe",
    "outputId": "92c055ce-b934-43a2-ffd6-cd6b062a9b5e",
    "slideshow": {
     "slide_type": "subslide"
    }
   },
   "outputs": [],
   "source": [
    "#hal yang sama juga bisa dilakukan pada type data string\n",
    "text = \"PYTHON\"\n",
    "print(text)"
   ]
  },
  {
   "cell_type": "code",
   "execution_count": null,
   "id": "1cb019c8-a9aa-4a6a-bb44-da9e81b847f6",
   "metadata": {
    "id": "1cb019c8-a9aa-4a6a-bb44-da9e81b847f6",
    "outputId": "e79fc589-35c1-484c-e4cd-8660fd1a24be",
    "slideshow": {
     "slide_type": "subslide"
    }
   },
   "outputs": [],
   "source": [
    "print(text[1])"
   ]
  },
  {
   "cell_type": "code",
   "execution_count": null,
   "id": "d16544f3-a746-4679-8d80-04ef7af066e6",
   "metadata": {
    "id": "d16544f3-a746-4679-8d80-04ef7af066e6",
    "outputId": "4266a363-f818-41b9-d40f-639ac582e2bd",
    "slideshow": {
     "slide_type": "subslide"
    }
   },
   "outputs": [],
   "source": [
    "print(text[-2])"
   ]
  },
  {
   "cell_type": "markdown",
   "id": "04e82061-a671-4516-8f32-9c93653d2774",
   "metadata": {
    "id": "04e82061-a671-4516-8f32-9c93653d2774",
    "slideshow": {
     "slide_type": "slide"
    }
   },
   "source": [
    "### Slicing\n",
    "\n",
    "> Penampilkan jarak antar value, konsepnya mirip dengan ```Indexing```. Indexing start dimulai sesuai indexnya, sedangkan indexing end diakhiri index -1."
   ]
  },
  {
   "cell_type": "code",
   "execution_count": null,
   "id": "43c3ebfa-e93a-48d2-b565-4147b2c1f38e",
   "metadata": {
    "colab": {
     "base_uri": "https://localhost:8080/"
    },
    "id": "43c3ebfa-e93a-48d2-b565-4147b2c1f38e",
    "outputId": "bd4e4675-2e7b-4e3a-9834-968b16cb41a1",
    "slideshow": {
     "slide_type": "subslide"
    }
   },
   "outputs": [],
   "source": [
    "#contoh kita akan membuat sebuah list\n",
    "int_list = [0, 1, 2, 3, 4, 5, 6, 7, 8, 9]\n",
    "print(int_list)"
   ]
  },
  {
   "cell_type": "code",
   "execution_count": null,
   "id": "03b3be78-0e10-4ea1-a6df-1383b07262e1",
   "metadata": {
    "colab": {
     "base_uri": "https://localhost:8080/"
    },
    "id": "03b3be78-0e10-4ea1-a6df-1383b07262e1",
    "outputId": "f06dc32d-0a1c-4c90-da38-60dec2311a29",
    "slideshow": {
     "slide_type": "subslide"
    }
   },
   "outputs": [],
   "source": [
    "# kita akan mencoba print slicing dari index pertama ke kedua\n",
    "# ingat bahwa python memulai indexnya dari 0\n",
    "# maka untuk indexing start = 0, sedangkan indexing end = 2 (excluded)\n",
    "print(int_list[0:2])"
   ]
  },
  {
   "cell_type": "code",
   "execution_count": null,
   "id": "a847f194-3811-4f75-a2ab-c90cb024912a",
   "metadata": {
    "id": "a847f194-3811-4f75-a2ab-c90cb024912a",
    "outputId": "70b110dc-0770-402f-c2ef-1289a43dbc25",
    "slideshow": {
     "slide_type": "subslide"
    }
   },
   "outputs": [],
   "source": [
    "# kita akan mencoba melakukan print slicing dari index kedua, sampai akhir\n",
    "print(int_list[1:])"
   ]
  },
  {
   "cell_type": "code",
   "execution_count": null,
   "id": "427ec3d0-9e86-4799-869d-c756238e1057",
   "metadata": {
    "id": "427ec3d0-9e86-4799-869d-c756238e1057",
    "outputId": "8e398454-1607-4418-bae3-6b7c57e6e686",
    "slideshow": {
     "slide_type": "subslide"
    }
   },
   "outputs": [],
   "source": [
    "# kita akan mencoba melakukan print slicing keseluruhan value, sebelum index kelima\n",
    "# perhatikan interaksi yang terjadi\n",
    "# bandingkan dengan slicing sebelumnya\n",
    "print(int_list[:5])"
   ]
  },
  {
   "cell_type": "code",
   "execution_count": null,
   "id": "Dtm_LCGuZnSt",
   "metadata": {
    "colab": {
     "base_uri": "https://localhost:8080/"
    },
    "id": "Dtm_LCGuZnSt",
    "outputId": "9bd2e2b2-4eb5-4825-f330-7b228c07455b",
    "slideshow": {
     "slide_type": "subslide"
    }
   },
   "outputs": [],
   "source": [
    "# kita akan mencoba melakukan print slicing dengan index paling belakang, ke-1 dari list\n",
    "# perhatikan interaksi yang terjadi\n",
    "# bandingkan dengan slicing sebelumnya\n",
    "print(int_list[-3])"
   ]
  },
  {
   "cell_type": "code",
   "execution_count": null,
   "id": "pcewkShfaRZ4",
   "metadata": {
    "colab": {
     "base_uri": "https://localhost:8080/"
    },
    "id": "pcewkShfaRZ4",
    "outputId": "2d3826ff-a699-41a3-da8d-e41d6f055f6c",
    "slideshow": {
     "slide_type": "subslide"
    }
   },
   "outputs": [],
   "source": [
    "# kita akan mencoba melakukan print slicing dengan index paling belakang, ke-1 dari list\n",
    "# perhatikan interaksi yang terjadi\n",
    "# bandingkan dengan slicing sebelumnya\n",
    "print(int_list[1:7:2])"
   ]
  },
  {
   "cell_type": "code",
   "execution_count": null,
   "id": "A8DhsR4obbxM",
   "metadata": {
    "colab": {
     "base_uri": "https://localhost:8080/"
    },
    "id": "A8DhsR4obbxM",
    "outputId": "b3a9c5b5-9878-4bf2-8379-beb8e2b28568",
    "slideshow": {
     "slide_type": "subslide"
    }
   },
   "outputs": [],
   "source": [
    "# slicing pada string\n",
    "s = \"Yosan\"\n",
    "print(s[4])\n",
    "print(sorted(s))\n",
    "print(s[::-1])"
   ]
  },
  {
   "cell_type": "markdown",
   "id": "9e7f16d2-cf46-4f97-af44-4b1d53134b04",
   "metadata": {
    "id": "9e7f16d2-cf46-4f97-af44-4b1d53134b04",
    "slideshow": {
     "slide_type": "subslide"
    }
   },
   "source": [
    "Python membaca slicing ```int_list[start:stop:step]```."
   ]
  },
  {
   "cell_type": "markdown",
   "id": "9loNcWYBFoTW",
   "metadata": {
    "id": "9loNcWYBFoTW",
    "slideshow": {
     "slide_type": "slide"
    }
   },
   "source": [
    "## Input dan Output"
   ]
  },
  {
   "cell_type": "code",
   "execution_count": null,
   "id": "Ox5QtBznFvOX",
   "metadata": {
    "colab": {
     "base_uri": "https://localhost:8080/"
    },
    "id": "Ox5QtBznFvOX",
    "outputId": "f4729749-9705-4295-8698-3906232eeca5",
    "slideshow": {
     "slide_type": "subslide"
    }
   },
   "outputs": [],
   "source": [
    "# input\n",
    "nama = input(\"Ketik namamu (lalu tekan Enter): \")\n",
    "\n",
    "# output\n",
    "print(\"Hai, \", nama, \"!\")\n",
    "print(\"Hai, %s!\" %nama)"
   ]
  },
  {
   "cell_type": "code",
   "execution_count": null,
   "id": "wbvoz-QCHBbk",
   "metadata": {
    "colab": {
     "base_uri": "https://localhost:8080/"
    },
    "id": "wbvoz-QCHBbk",
    "outputId": "84a93bcd-5f57-442b-d9fa-ec7a51e2015e",
    "slideshow": {
     "slide_type": "subslide"
    }
   },
   "outputs": [],
   "source": [
    "# input\n",
    "nama = input(\"Siapa namamu: \")\n",
    "umur = int(input(\"Umurmu berapa? \"))\n",
    "\n",
    "# output\n",
    "print(\"\\nUmur %s adalah %d.\" % (nama, umur))"
   ]
  },
  {
   "cell_type": "markdown",
   "id": "e7d49060-37dc-4be4-a553-97e271208e96",
   "metadata": {
    "id": "e7d49060-37dc-4be4-a553-97e271208e96",
    "slideshow": {
     "slide_type": "slide"
    }
   },
   "source": [
    "## Mutability, Aliasing, Cloning"
   ]
  },
  {
   "cell_type": "markdown",
   "id": "575fee72-ecc9-4db5-a2f8-53536c97316a",
   "metadata": {
    "id": "575fee72-ecc9-4db5-a2f8-53536c97316a",
    "slideshow": {
     "slide_type": "subslide"
    }
   },
   "source": [
    "### Mutability"
   ]
  },
  {
   "cell_type": "markdown",
   "id": "d986cab5-3c96-4e3f-9465-69a3f48d7f18",
   "metadata": {
    "id": "d986cab5-3c96-4e3f-9465-69a3f48d7f18",
    "slideshow": {
     "slide_type": "subslide"
    }
   },
   "source": [
    "Seperti dijelaskan sebelumnya bahwa :\n",
    "* Tuple memiliki sifat **immutable**. \n",
    "* List memiliki sifat **mutable**. "
   ]
  },
  {
   "cell_type": "code",
   "execution_count": null,
   "id": "1457a4a6-fb6a-458f-baac-f8e6c56e6952",
   "metadata": {
    "id": "1457a4a6-fb6a-458f-baac-f8e6c56e6952",
    "slideshow": {
     "slide_type": "subslide"
    }
   },
   "outputs": [],
   "source": [
    "#mari kita membuat list dan tuple yang berisikan data yang sama\n",
    "int_list = [1, 2, 3, 4, 5, 0]\n",
    "int_tuple = (1, 2, 3, 4, 5, 0)"
   ]
  },
  {
   "cell_type": "code",
   "execution_count": null,
   "id": "14d187e5-9277-467a-a8b0-033beaf5d5f2",
   "metadata": {
    "id": "14d187e5-9277-467a-a8b0-033beaf5d5f2",
    "slideshow": {
     "slide_type": "subslide"
    }
   },
   "outputs": [],
   "source": [
    "#kita coba ubah index ke 2 dari list\n",
    "int_list[2] = 8"
   ]
  },
  {
   "cell_type": "code",
   "execution_count": null,
   "id": "4f628254-fff2-4990-a86a-5965d10500b4",
   "metadata": {
    "id": "4f628254-fff2-4990-a86a-5965d10500b4",
    "outputId": "9f33edfc-4d31-4da0-df18-d8f3b0174bdd",
    "slideshow": {
     "slide_type": "subslide"
    }
   },
   "outputs": [],
   "source": [
    "#disini index ke 2 dari list berubah\n",
    "int_list"
   ]
  },
  {
   "cell_type": "code",
   "execution_count": null,
   "id": "4c1fd7c5-87a1-4872-94f3-89298d658ede",
   "metadata": {
    "id": "4c1fd7c5-87a1-4872-94f3-89298d658ede",
    "outputId": "09f2f7a7-3f7e-4f1d-f5a8-81181c948b31",
    "slideshow": {
     "slide_type": "subslide"
    }
   },
   "outputs": [],
   "source": [
    "#jika kita mencoba mengubah index ke 2 dari tuple maka yang kita dapatkan adalah error\n",
    "int_tuple[2] = 8"
   ]
  },
  {
   "cell_type": "markdown",
   "id": "63b67f4d-42c9-4d7b-9c59-9608ca0c8fb7",
   "metadata": {
    "id": "63b67f4d-42c9-4d7b-9c59-9608ca0c8fb7",
    "slideshow": {
     "slide_type": "slide"
    }
   },
   "source": [
    "### Aliasing\n",
    "kita dapat melakuan aliansing pada python. Aliasing terjadi ketika nilai satu variabel ditetapkan ke variabel lain."
   ]
  },
  {
   "cell_type": "code",
   "execution_count": null,
   "id": "40240862-f7c3-4f45-bcf3-5cae5a37d23c",
   "metadata": {
    "id": "40240862-f7c3-4f45-bcf3-5cae5a37d23c",
    "outputId": "f94e1d67-9ab4-46df-a101-70b642fed885",
    "slideshow": {
     "slide_type": "subslide"
    }
   },
   "outputs": [],
   "source": [
    "#python menyimpan data dalam bentuk id\n",
    "#ketika kita melakukan aliasing maka id yang digunakan adalah sama\n",
    "first_variable = \"PYTHON\"\n",
    "print(\"Value of first:\", first_variable)\n",
    "print(\"Reference of first:\", id(first_variable))\n",
    "\n",
    "print(\"--------------\")\n",
    "\n",
    "second_variable = first_variable # making an alias\n",
    "print(\"Value of second:\", second_variable)\n",
    "print(\"Reference of second:\", id(second_variable))\n",
    "\n",
    "#sumber: https://www.codesansar.com/python-programming/aliasing.htm"
   ]
  },
  {
   "cell_type": "code",
   "execution_count": null,
   "id": "a9079f1b-2b51-4b5e-9679-9eb989616fc4",
   "metadata": {
    "id": "a9079f1b-2b51-4b5e-9679-9eb989616fc4",
    "outputId": "12477936-ef3a-4093-e5ee-f9545f411180",
    "slideshow": {
     "slide_type": "subslide"
    }
   },
   "outputs": [],
   "source": [
    "#aliasing dapat menyebabkan masalah ketika kita ingin mengubah variabel pertama tanpa mengubah variabel kedua atau mengubah variabel kedua tanpa merubah variabel pertama\n",
    "int_data = [1,2,3,4,5]\n",
    "angka_1 = int_data\n",
    "angka_2 = angka_1\n",
    "print(int_data)\n",
    "print(angka_1)\n",
    "print(angka_2)"
   ]
  },
  {
   "cell_type": "code",
   "execution_count": null,
   "id": "c769a61f-269a-4bc9-8a8b-c0af2ffe4848",
   "metadata": {
    "id": "c769a61f-269a-4bc9-8a8b-c0af2ffe4848",
    "outputId": "c0b3cd4f-ea0f-4bdf-f2ab-e0e27eccfcee",
    "slideshow": {
     "slide_type": "subslide"
    }
   },
   "outputs": [],
   "source": [
    "print(id(int_data))\n",
    "print(id(angka_1))\n",
    "print(id(angka_2))"
   ]
  },
  {
   "cell_type": "code",
   "execution_count": null,
   "id": "cfd45b74-44fb-4041-a945-4891e8042f56",
   "metadata": {
    "id": "cfd45b74-44fb-4041-a945-4891e8042f56",
    "outputId": "88137c3f-d56d-4fdc-a74a-39893b76336d",
    "slideshow": {
     "slide_type": "subslide"
    }
   },
   "outputs": [],
   "source": [
    "angka_1.append(6)\n",
    "angka_2.append(7)\n",
    "print(int_data)\n",
    "print(angka_1)\n",
    "print(angka_2)"
   ]
  },
  {
   "cell_type": "markdown",
   "id": "bfa0ca55-547e-44ed-a189-dab680314697",
   "metadata": {
    "id": "bfa0ca55-547e-44ed-a189-dab680314697",
    "slideshow": {
     "slide_type": "slide"
    }
   },
   "source": [
    "### Cloning\n",
    "cloning adalah kegiatan menyalin suatu data."
   ]
  },
  {
   "cell_type": "code",
   "execution_count": null,
   "id": "63400b73-930e-4e52-98f1-585f41ded835",
   "metadata": {
    "id": "63400b73-930e-4e52-98f1-585f41ded835",
    "slideshow": {
     "slide_type": "subslide"
    }
   },
   "outputs": [],
   "source": [
    "#mari kita membuat list\n",
    "int_data = [1, 2, 3, 4, 5]\n",
    "#cloning dapat dilakukan dengan beberapa cara\n",
    "#1. menggunakan teknik slicing\n",
    "angka_1 = int_data[:]\n",
    "#2. menggunakan copy method\n",
    "angka_2 = int_data.copy()\n",
    "# beberapa cara lainnya bisa dibaca di https://www.geeksforgeeks.org/python-cloning-copying-list/"
   ]
  },
  {
   "cell_type": "code",
   "execution_count": null,
   "id": "8b3c27bb-f513-48cd-b83e-e573f51b4909",
   "metadata": {
    "id": "8b3c27bb-f513-48cd-b83e-e573f51b4909",
    "outputId": "21f52376-779a-4ffa-f8f7-2b0a5abdcadc",
    "slideshow": {
     "slide_type": "subslide"
    }
   },
   "outputs": [],
   "source": [
    "print(id(int_data))\n",
    "print(id(angka_1))\n",
    "print(id(angka_2))"
   ]
  },
  {
   "cell_type": "code",
   "execution_count": null,
   "id": "c026b9a3-e07a-46d4-8908-79ab180f078d",
   "metadata": {
    "id": "c026b9a3-e07a-46d4-8908-79ab180f078d",
    "outputId": "5fade2ec-233b-4f65-ce73-71c69aeba116",
    "slideshow": {
     "slide_type": "subslide"
    }
   },
   "outputs": [],
   "source": [
    "#mari kita coba menambahkan data\n",
    "angka_1.append(6)\n",
    "angka_2.append(7)\n",
    "print(int_data)\n",
    "print(angka_1)\n",
    "print(angka_2)"
   ]
  },
  {
   "cell_type": "markdown",
   "id": "587fbb25-4115-4978-9331-f4b8caffead0",
   "metadata": {
    "id": "587fbb25-4115-4978-9331-f4b8caffead0",
    "slideshow": {
     "slide_type": "slide"
    }
   },
   "source": [
    "---\n",
    "**Latihan**"
   ]
  },
  {
   "cell_type": "code",
   "execution_count": null,
   "id": "2c416e46-5eaf-4fbf-8d67-4ad34f6d52bb",
   "metadata": {
    "id": "2c416e46-5eaf-4fbf-8d67-4ad34f6d52bb",
    "slideshow": {
     "slide_type": "subslide"
    }
   },
   "outputs": [],
   "source": [
    "#hapus nilai 17 dan urutkan angka tersebut\n",
    "list1 = [1,4,5,6,17,3,2,7,8,10,9]\n"
   ]
  },
  {
   "cell_type": "code",
   "execution_count": null,
   "id": "411dab83-2dd3-4e25-871e-ac6630021cf0",
   "metadata": {
    "id": "411dab83-2dd3-4e25-871e-ac6630021cf0",
    "slideshow": {
     "slide_type": "subslide"
    }
   },
   "outputs": [],
   "source": [
    "#buat variabel tuple_ambil dengan isi (5,6,7) yang diambil dari tuple1\n",
    "tuple1 = (1,2,3,4,5,6,7,8,9,10)"
   ]
  },
  {
   "cell_type": "markdown",
   "id": "d0a4bc87-d26d-4922-98c2-417ab0ea19a0",
   "metadata": {
    "id": "d0a4bc87-d26d-4922-98c2-417ab0ea19a0",
    "slideshow": {
     "slide_type": "slide"
    }
   },
   "source": [
    "## Functions"
   ]
  },
  {
   "cell_type": "markdown",
   "id": "b4c0dc46-d428-4591-8b29-cc1e95e4eac3",
   "metadata": {
    "id": "b4c0dc46-d428-4591-8b29-cc1e95e4eac3",
    "slideshow": {
     "slide_type": "subslide"
    }
   },
   "source": [
    "<img src=https://files.realpython.com/media/t.74ec5430f457.png width=200 class=\"center\">"
   ]
  },
  {
   "cell_type": "markdown",
   "id": "9e92cca5-cb23-4e77-b8b8-8c331d000e3c",
   "metadata": {
    "id": "9e92cca5-cb23-4e77-b8b8-8c331d000e3c",
    "slideshow": {
     "slide_type": "subslide"
    }
   },
   "source": [
    "> Blok kode terorganisir dan dapat digunakan kembali yang digunakan untuk melakukan sebuah tindakan/action. \n",
    "\n",
    "### Build in functions di Python\n",
    "\n",
    "Beberapa function telah disediakan oleh python di antaranya:\n",
    "\n",
    "|||Fungsi Bawaan|||\n",
    "|--|--|--|--|--|\n",
    "|abs()|delattr()|hash()|memoryview()|set()||\n",
    "all()|dict()|help()|min()|setattr()|\n",
    "|any()|dir()|hex()|next()|slice()|\n",
    "|ascii()|divmod()|id()|object()|sorted()|\n",
    "|bin()|enumerate()|input()|oct()|staticmethod()|\n",
    "|bool()|eval()|int()|open()|str()|\n",
    "|breakpoint()|exec()|isinstance()|ord()|sum()|\n",
    "|bytearray()|filter()|issubclass()|pow()|super()|\n",
    "|bytes()|float()|iter()|print()|tuple()|\n",
    "|callable()|format()|len()|property()|type()|\n",
    "|chr()|frozenset()|list()|range()|vars()|\n",
    "|classmethod()|getattr()|locals()|repr()|zip()|\n",
    "|compile()|globals()|map()|reversed()|\\_\\_import\\_\\_()|\n",
    "|complex()|hasattr()|max()|round()||"
   ]
  },
  {
   "cell_type": "code",
   "execution_count": null,
   "id": "6cefd86e",
   "metadata": {
    "colab": {
     "base_uri": "https://localhost:8080/"
    },
    "id": "6cefd86e",
    "outputId": "bae35a07-a261-492b-8795-39543af2708c",
    "slideshow": {
     "slide_type": "subslide"
    },
    "tags": []
   },
   "outputs": [],
   "source": [
    "# fungsi input memungkinkan program menerima masukan nilai dari user, hasilnya otomatis berupa nilai string\n",
    "hey=input('masukan suatu nilai:')\n",
    "type(hey)\n",
    "print(hey)"
   ]
  },
  {
   "cell_type": "code",
   "execution_count": null,
   "id": "942408ba",
   "metadata": {
    "id": "942408ba",
    "outputId": "dd2b327e-b606-4f47-caab-61c7a4781962",
    "slideshow": {
     "slide_type": "subslide"
    }
   },
   "outputs": [],
   "source": [
    "# fungsi eval digunakan untuk mengevaluasi sebuah string dan secara otomatis merubah typenya sesuai dengan isi string tersebut\n",
    "\n",
    "# test_str = '{\"ini_dict\":(100.9,14)}'\n",
    "# test_str = \"100\"\n",
    "# test_str = \"100.7\"\n",
    "test_str = \"True\"\n",
    "\n",
    "print(eval(test_str))\n",
    "type(eval(test_str))"
   ]
  },
  {
   "cell_type": "code",
   "execution_count": null,
   "id": "682598ae",
   "metadata": {
    "id": "682598ae",
    "outputId": "06dc18d5-d46a-4233-def0-09fe1931b66a",
    "slideshow": {
     "slide_type": "subslide"
    }
   },
   "outputs": [],
   "source": [
    "#fungsi range digunakan untuk membuat list berisi nilai angka dalam rentang tertentu\n",
    "int_list = range(1,10, 2)\n",
    "print(list(int_list))\n",
    "int_list"
   ]
  },
  {
   "cell_type": "code",
   "execution_count": null,
   "id": "cc50636c-e7d7-4e04-8297-f3c5198e443b",
   "metadata": {
    "id": "cc50636c-e7d7-4e04-8297-f3c5198e443b",
    "outputId": "d6054495-65d2-4357-b8d1-8bdc07549d2d",
    "slideshow": {
     "slide_type": "subslide"
    }
   },
   "outputs": [],
   "source": [
    "# kita akan mencoba menjumlah keseluruhan value pada int_list\n",
    "print(sum(int_list))"
   ]
  },
  {
   "cell_type": "code",
   "execution_count": null,
   "id": "ae6e4e7c-584a-43e2-bd9d-9a1ae5035814",
   "metadata": {
    "id": "ae6e4e7c-584a-43e2-bd9d-9a1ae5035814",
    "outputId": "ecec3ef9-30d6-41a9-c50c-0858f1d478d4",
    "slideshow": {
     "slide_type": "subslide"
    }
   },
   "outputs": [],
   "source": [
    "# kita akan mencoba mengukur nilai tertinggi dari value di int_list\n",
    "print(max(int_list))"
   ]
  },
  {
   "cell_type": "code",
   "execution_count": null,
   "id": "25593d99-21ff-4f88-95e2-1dd64f5a39e0",
   "metadata": {
    "id": "25593d99-21ff-4f88-95e2-1dd64f5a39e0",
    "outputId": "2f6f7412-949b-4c07-b500-472a1a5820aa",
    "slideshow": {
     "slide_type": "subslide"
    }
   },
   "outputs": [],
   "source": [
    "# kita akan mencoba mengukur panjang dari int_list\n",
    "print(len(int_list))\n",
    "# artinya di dalam int_list terdapat 5 value"
   ]
  },
  {
   "cell_type": "markdown",
   "id": "a225f1ba-df49-419e-bf63-e4cfb1a76ab9",
   "metadata": {
    "id": "a225f1ba-df49-419e-bf63-e4cfb1a76ab9",
    "slideshow": {
     "slide_type": "slide"
    }
   },
   "source": [
    "### Membuat fungsi secara manual\n",
    "\n",
    "Beberapa hal dasar yang perlu dipahami:\n",
    "1. Fungsi blok dimulai dengan  kata kunci ```def``` diikuti oleh nama fungsi dan tanda kurung (())sebagai input.\n",
    "2. ```Argumen``` merupakan input dari luar fungsi untuk dapat diproses oleh fungsi.\n",
    "3. ```Return``` digunakan mengembalikan nilai dari proses yang dilakukan sebagai output."
   ]
  },
  {
   "cell_type": "markdown",
   "id": "340cfd72-d817-4e72-baa5-dc5f36d0ff18",
   "metadata": {
    "id": "340cfd72-d817-4e72-baa5-dc5f36d0ff18",
    "slideshow": {
     "slide_type": "subslide"
    }
   },
   "source": [
    "def function_name(parameters):\n",
    "<br>    <statement(s)></br>\n",
    "    \n",
    "|Komponen|Arti|\n",
    "|---|---|\n",
    "|def|Kata kunci yang menginformasikan Python bahwa suatu fungsi sedang didefinisikan|\n",
    "|function_name|Pengidentifikasi Python yang valid yang menamai fungsi|\n",
    "|parameters|Daftar parameter opsional yang dipisahkan koma yang dapat diteruskan ke fungsi|\n",
    "|: |Tanda baca yang menunjukkan akhir dari header fungsi Python (nama dan daftar parameter)|\n",
    "|statement(s)|Blok pernyataan Python yang valid|"
   ]
  },
  {
   "cell_type": "code",
   "execution_count": null,
   "id": "70ce6d0f-f954-4bbe-a29f-4d0f3b4b8413",
   "metadata": {
    "id": "70ce6d0f-f954-4bbe-a29f-4d0f3b4b8413",
    "slideshow": {
     "slide_type": "subslide"
    }
   },
   "outputs": [],
   "source": [
    "#contoh fungsi sederhana\n",
    "def tambah_tiga(x):           # > mendefinisikan fungsi bernama tambah_tiga, argumennya x\n",
    "    angka = x+3               # > angka merupakan statement yang isinya perhitungan dari variabel x +3\n",
    "    return angka              # > keluar dari fungsi dan meneruskan isi dari variabel angka"
   ]
  },
  {
   "cell_type": "code",
   "execution_count": null,
   "id": "e74b2074-dd61-45c1-b317-e6eabb79a657",
   "metadata": {
    "id": "e74b2074-dd61-45c1-b317-e6eabb79a657",
    "outputId": "18a93e3a-e28b-48bf-d65b-1513bdd86345",
    "slideshow": {
     "slide_type": "subslide"
    }
   },
   "outputs": [],
   "source": [
    "tambah_tiga(4)"
   ]
  },
  {
   "cell_type": "markdown",
   "id": "5bef628c-ce3b-40fa-b7b5-333b179bac73",
   "metadata": {
    "id": "5bef628c-ce3b-40fa-b7b5-333b179bac73",
    "slideshow": {
     "slide_type": "slide"
    }
   },
   "source": [
    "---\n",
    "**Latihan!**\n"
   ]
  },
  {
   "cell_type": "code",
   "execution_count": null,
   "id": "16626d2d-d4ce-45d0-b747-a6f47905259b",
   "metadata": {
    "id": "16626d2d-d4ce-45d0-b747-a6f47905259b",
    "outputId": "6fdaa2e8-c55c-41cc-96d9-4b62c41dfba8",
    "slideshow": {
     "slide_type": "subslide"
    }
   },
   "outputs": [],
   "source": [
    "# Buatlah fungsi untuk akar pangkat 3\n",
    "def akar_tiga(x):\n",
    "    ....."
   ]
  },
  {
   "cell_type": "code",
   "execution_count": null,
   "id": "82ffc73b-3a23-476e-b741-88cfda269270",
   "metadata": {
    "id": "82ffc73b-3a23-476e-b741-88cfda269270",
    "slideshow": {
     "slide_type": "subslide"
    }
   },
   "outputs": [],
   "source": [
    "# kita akan mencoba menghitung manual value rata-rata dari int_list\n",
    "def list_mean(some_list):                       # > list_mean judul dari fungsi kita, argumennya some_list\n",
    "    output = sum(some_list) / len(some_list)    # > output itu berisikan rumus dari perhitngan value rata-rata\n",
    "    return output                               # > print output menggunakan return"
   ]
  },
  {
   "cell_type": "code",
   "execution_count": null,
   "id": "0f9bf963-aef4-4ca3-a3fb-f4bd180fdc29",
   "metadata": {
    "colab": {
     "base_uri": "https://localhost:8080/"
    },
    "id": "0f9bf963-aef4-4ca3-a3fb-f4bd180fdc29",
    "outputId": "ad60986a-7342-4ed1-c80b-17358cefbf8a",
    "scrolled": true,
    "slideshow": {
     "slide_type": "subslide"
    }
   },
   "outputs": [],
   "source": [
    "# print hasil\n",
    "print(list_mean(int_list))"
   ]
  },
  {
   "cell_type": "code",
   "execution_count": null,
   "id": "96b9bec4-fb61-4c36-ab37-cc0b409766ba",
   "metadata": {
    "id": "96b9bec4-fb61-4c36-ab37-cc0b409766ba",
    "slideshow": {
     "slide_type": "subslide"
    }
   },
   "outputs": [],
   "source": [
    "# kita akan mencoba menjumlahkan nilai tertinggi dan terendah dari int_list\n",
    "def min_max(some_list):\n",
    "    output = max(some_list) - min(some_list)\n",
    "    return output"
   ]
  },
  {
   "cell_type": "code",
   "execution_count": null,
   "id": "64b564be-5ebf-4fb3-8725-e1e8769a55fd",
   "metadata": {
    "id": "64b564be-5ebf-4fb3-8725-e1e8769a55fd",
    "outputId": "f5b50e19-98a3-42cf-d91d-41be8fa39188",
    "scrolled": true,
    "slideshow": {
     "slide_type": "subslide"
    }
   },
   "outputs": [],
   "source": [
    "# print hasi;\n",
    "print(min_max(int_list))"
   ]
  },
  {
   "cell_type": "markdown",
   "id": "3adb09bb-1004-420c-8a42-0c66c7cf2a18",
   "metadata": {
    "id": "3adb09bb-1004-420c-8a42-0c66c7cf2a18",
    "slideshow": {
     "slide_type": "slide"
    }
   },
   "source": [
    "Dalam membuat function perlu diperhatikan bahwa:\n",
    "1. Variable yang ditetapkan dalam tubuh utama dapat diakses dalam function.\n",
    "2. Variable yang ditetapkan dalam function dapat digunakan di dalam function tersebut, tidak dapat digunakan di luar function.\n",
    "3. Untuk membuat variable dalam function berlaku secara global, gunakan perintah global."
   ]
  },
  {
   "cell_type": "code",
   "execution_count": null,
   "id": "90122ca5-c2f1-4abb-b6bf-9151fa738e1a",
   "metadata": {
    "id": "90122ca5-c2f1-4abb-b6bf-9151fa738e1a",
    "slideshow": {
     "slide_type": "subslide"
    }
   },
   "outputs": [],
   "source": [
    "# kita membuat function constant\n",
    "# tidak ada argumen\n",
    "# terdapat variable di dalamnya yaitu pi dan phi\n",
    "# saat kita melakukan perintah `global`, maka variable di dalam function tersebut bisa berlaku secara global\n",
    "def constant():\n",
    "    global pi, phi\n",
    "    pi = 3.14\n",
    "    phi = 1.518"
   ]
  },
  {
   "cell_type": "code",
   "execution_count": null,
   "id": "4f66ec8a-7f47-47a5-9fc2-8d4f8cecb3bd",
   "metadata": {
    "id": "4f66ec8a-7f47-47a5-9fc2-8d4f8cecb3bd",
    "outputId": "f4da71ed-ce3e-4448-87af-8d0799f9ce97",
    "scrolled": true,
    "slideshow": {
     "slide_type": "subslide"
    }
   },
   "outputs": [],
   "source": [
    "# print hasil\n",
    "print(constant())"
   ]
  },
  {
   "cell_type": "code",
   "execution_count": null,
   "id": "442376b4-7d6a-4499-aecc-0168f3585082",
   "metadata": {
    "id": "442376b4-7d6a-4499-aecc-0168f3585082",
    "outputId": "b3fbc124-594d-45fb-97f7-3d340c0e3c1c",
    "slideshow": {
     "slide_type": "subslide"
    }
   },
   "outputs": [],
   "source": [
    "# memanggil variable pi\n",
    "print(pi)"
   ]
  },
  {
   "cell_type": "markdown",
   "id": "d253f542-6a2e-4854-a860-80ce70d6063c",
   "metadata": {
    "id": "d0a4bc87-d26d-4922-98c2-417ab0ea19a0",
    "slideshow": {
     "slide_type": "slide"
    }
   },
   "source": [
    "## Modules"
   ]
  },
  {
   "cell_type": "markdown",
   "id": "f332638d-4a73-4add-bceb-dd72b7f33d28",
   "metadata": {
    "slideshow": {
     "slide_type": "subslide"
    }
   },
   "source": [
    "*Python module* adalah file Python yang berisi *definitions and statements*. <br>\n",
    "Sebuah module dapat berisi *functions, classes, and variables*, dan juga *runnable code*. <br>\n",
    "Menggabungkan kode yang mirip fungsinya membuat kode jadi lebih  mudah dipahami dan juga lebih baik secara struktu logikal."
   ]
  },
  {
   "cell_type": "code",
   "execution_count": 62,
   "id": "fe3b4b53-7dcb-4564-b939-8c9d4d48f8dd",
   "metadata": {
    "execution": {
     "iopub.execute_input": "2023-05-29T07:27:27.724589Z",
     "iopub.status.busy": "2023-05-29T07:27:27.723591Z",
     "iopub.status.idle": "2023-05-29T07:27:27.742541Z",
     "shell.execute_reply": "2023-05-29T07:27:27.741543Z",
     "shell.execute_reply.started": "2023-05-29T07:27:27.723591Z"
    },
    "slideshow": {
     "slide_type": "subslide"
    }
   },
   "outputs": [],
   "source": [
    "# A simple module, calc.py\n",
    "def tambah(x, y):\n",
    "    return (x+y)\n",
    " \n",
    "def kurang(x, y):\n",
    "    return (x-y)"
   ]
  },
  {
   "cell_type": "markdown",
   "id": "5902aa7b-4133-48d6-846e-1970920a5f23",
   "metadata": {
    "slideshow": {
     "slide_type": "slide"
    }
   },
   "source": [
    "Sintaksis import di Python <br>\n",
    "`` import module_name `` <br>\n",
    "`` import module_name.function_name `` <br>\n",
    "`` from module_name import function1_name, function2_name ``<br>\n",
    "`` from module_name import * ``"
   ]
  },
  {
   "cell_type": "code",
   "execution_count": 64,
   "id": "2a0614e5-9e41-4ba7-b167-c1ae9da75564",
   "metadata": {
    "execution": {
     "iopub.execute_input": "2023-05-29T07:31:40.714245Z",
     "iopub.status.busy": "2023-05-29T07:31:40.714245Z",
     "iopub.status.idle": "2023-05-29T07:31:40.737182Z",
     "shell.execute_reply": "2023-05-29T07:31:40.735187Z",
     "shell.execute_reply.started": "2023-05-29T07:31:40.714245Z"
    },
    "slideshow": {
     "slide_type": "subslide"
    },
    "tags": []
   },
   "outputs": [],
   "source": [
    "import calc"
   ]
  },
  {
   "cell_type": "code",
   "execution_count": null,
   "id": "0b69d9f2-9be9-47e0-aec8-1488996f476f",
   "metadata": {
    "slideshow": {
     "slide_type": "subslide"
    },
    "tags": []
   },
   "outputs": [],
   "source": [
    "print(calc.tambah(10, 2))"
   ]
  },
  {
   "cell_type": "markdown",
   "id": "1d26f1d7-3e4c-4913-a7ea-82df169e7f2c",
   "metadata": {
    "slideshow": {
     "slide_type": "slide"
    }
   },
   "source": [
    "**Latihan!**"
   ]
  },
  {
   "cell_type": "code",
   "execution_count": null,
   "id": "e05c1f2b-83b9-4af5-8a52-cf917ce6df29",
   "metadata": {
    "slideshow": {
     "slide_type": "subslide"
    }
   },
   "outputs": [],
   "source": [
    "# Buatlah modul untuk kalkulator, +, -, *, /"
   ]
  },
  {
   "cell_type": "markdown",
   "id": "d83e1133-dc10-470a-821f-f08f87af996a",
   "metadata": {
    "id": "d83e1133-dc10-470a-821f-f08f87af996a",
    "slideshow": {
     "slide_type": "slide"
    }
   },
   "source": [
    "### Nilai Default"
   ]
  },
  {
   "cell_type": "markdown",
   "id": "eb72ef2e-e4f3-4341-a236-c372aeae4a51",
   "metadata": {
    "id": "eb72ef2e-e4f3-4341-a236-c372aeae4a51",
    "slideshow": {
     "slide_type": "subslide"
    }
   },
   "source": [
    "> Python memungkinkan argumen fungsi memiliki nilai default. Jika fungsi dipanggil tanpa argumen, argumen mendapatkan nilai defaultnya."
   ]
  },
  {
   "cell_type": "code",
   "execution_count": null,
   "id": "cf793649-539f-4ae1-896e-967722894b9c",
   "metadata": {
    "id": "cf793649-539f-4ae1-896e-967722894b9c",
    "slideshow": {
     "slide_type": "subslide"
    }
   },
   "outputs": [],
   "source": [
    "#kita deklarasi sebuah fungsi untuk menghitung bea masuk dengan tarif default 10%\n",
    "def bea_masuk(nilai_cif,tarif=10):\n",
    "    bm = nilai_cif*tarif/100\n",
    "    return bm"
   ]
  },
  {
   "cell_type": "code",
   "execution_count": null,
   "id": "acb0a286-45bb-4d98-8091-1c9b219ef5cb",
   "metadata": {
    "id": "acb0a286-45bb-4d98-8091-1c9b219ef5cb",
    "outputId": "1b035219-0d65-4da2-9882-6e039df80af3",
    "slideshow": {
     "slide_type": "subslide"
    }
   },
   "outputs": [],
   "source": [
    "#jika kita masukan nilai cifnya saja kita akan menggunakan tarif default yaitu 10%\n",
    "bea_masuk(10000000)"
   ]
  },
  {
   "cell_type": "code",
   "execution_count": null,
   "id": "30b9649b-2242-4601-8f48-9d682adc6f96",
   "metadata": {
    "id": "30b9649b-2242-4601-8f48-9d682adc6f96",
    "outputId": "7b9bf22c-6793-441d-d5e1-b722e7edb3fb",
    "slideshow": {
     "slide_type": "subslide"
    }
   },
   "outputs": [],
   "source": [
    "#jika kita masukan juga nilai tarifnya maka akan dihitung berdasarkan tarif yang diberikan\n",
    "bea_masuk(1000000,5)"
   ]
  },
  {
   "cell_type": "markdown",
   "id": "8147714b-32f5-46d9-a62d-f62da80cc3a0",
   "metadata": {
    "id": "8147714b-32f5-46d9-a62d-f62da80cc3a0",
    "slideshow": {
     "slide_type": "slide"
    }
   },
   "source": [
    "### Docstring"
   ]
  },
  {
   "cell_type": "markdown",
   "id": "730a6133-a678-40b2-90da-938fa36c1b60",
   "metadata": {
    "id": "730a6133-a678-40b2-90da-938fa36c1b60",
    "slideshow": {
     "slide_type": "subslide"
    }
   },
   "source": [
    "> Docstring berguna untuk mendokumentasikan program agar mudah untuk dipahami dan digunakan."
   ]
  },
  {
   "cell_type": "code",
   "execution_count": null,
   "id": "62d17aff-1a93-41cc-b128-e113bb36f3b8",
   "metadata": {
    "id": "62d17aff-1a93-41cc-b128-e113bb36f3b8",
    "slideshow": {
     "slide_type": "subslide"
    }
   },
   "outputs": [],
   "source": [
    "def function_with_pep484_type_annotations(param1: int, param2: str) -> bool:\n",
    "    \"\"\"Example function with PEP 484 type annotations.\n",
    "\n",
    "    Args:\n",
    "        param1: The first parameter.\n",
    "        param2: The second parameter.\n",
    "\n",
    "    Returns:\n",
    "        The return value. True for success, False otherwise.\n",
    "\n",
    "    \"\"\"\n",
    "#sumber : https://sphinxcontrib-napoleon.readthedocs.io/en/latest/example_google.html"
   ]
  },
  {
   "cell_type": "code",
   "execution_count": null,
   "id": "28306773-b554-4c28-b3ee-01d9c7fc5909",
   "metadata": {
    "id": "28306773-b554-4c28-b3ee-01d9c7fc5909",
    "slideshow": {
     "slide_type": "subslide"
    }
   },
   "outputs": [],
   "source": [
    "#mari kita coba dengan fungsi bea masuk yang tadi\n",
    "def bea_masuk(nilai_cif,tarif=10):\n",
    "    \"\"\" ini adalah fungsi untuk menghitung nilai bea masuk\n",
    "    Args:\n",
    "        nilai_cif (int): nilai pabean yang terdiri dari nilai barang, asuransi dan biaya kirim\n",
    "        tarif (int)    : adalah tarif bea masuk sesuai peraturan berlaku default di 10%\n",
    "    \n",
    "    Returns:\n",
    "        bm: nilai bea masuk yang ditagihkan\n",
    "    \"\"\"\n",
    "    bm = nilai_cif*tarif/100\n",
    "    return bm"
   ]
  },
  {
   "cell_type": "code",
   "execution_count": null,
   "id": "8776d813-fae9-43df-809c-d2d23031ea61",
   "metadata": {
    "colab": {
     "base_uri": "https://localhost:8080/"
    },
    "id": "8776d813-fae9-43df-809c-d2d23031ea61",
    "outputId": "3ba732e0-b50a-46cf-d7d9-5152a490e1bb",
    "slideshow": {
     "slide_type": "subslide"
    }
   },
   "outputs": [],
   "source": [
    "#kita bisa memanggil docstring dengan help\n",
    "help(bea_masuk)"
   ]
  },
  {
   "cell_type": "code",
   "execution_count": null,
   "id": "ba9e0d63-51ca-4d15-99d4-1c15e380acea",
   "metadata": {
    "id": "ba9e0d63-51ca-4d15-99d4-1c15e380acea",
    "slideshow": {
     "slide_type": "subslide"
    }
   },
   "outputs": [],
   "source": [
    "?bea_masuk"
   ]
  },
  {
   "cell_type": "markdown",
   "id": "7ec3688c-0967-4142-bbea-15d37a89bc98",
   "metadata": {
    "id": "7ec3688c-0967-4142-bbea-15d37a89bc98",
    "slideshow": {
     "slide_type": "slide"
    }
   },
   "source": [
    "---\n",
    "**Latihan**"
   ]
  },
  {
   "cell_type": "code",
   "execution_count": null,
   "id": "51710be9-d216-444c-ade7-c95140e2952c",
   "metadata": {
    "id": "51710be9-d216-444c-ade7-c95140e2952c",
    "slideshow": {
     "slide_type": "subslide"
    }
   },
   "outputs": [],
   "source": [
    "#buatlah fungsi yang menghasilkan output \" Halo Nama Saya XXX\" dengan input nama"
   ]
  },
  {
   "cell_type": "markdown",
   "id": "9f9f15d1-1a3a-45c3-87dd-e205af0d3778",
   "metadata": {
    "id": "9f9f15d1-1a3a-45c3-87dd-e205af0d3778",
    "slideshow": {
     "slide_type": "slide"
    }
   },
   "source": [
    "## Fungsi Lambda"
   ]
  },
  {
   "cell_type": "code",
   "execution_count": null,
   "id": "004c50ec-804c-4160-84e9-3d6d2d34d1ba",
   "metadata": {
    "id": "004c50ec-804c-4160-84e9-3d6d2d34d1ba",
    "slideshow": {
     "slide_type": "subslide"
    }
   },
   "outputs": [],
   "source": [
    "#contoh kita membuat fungsi multiple yaitu x*2 kita definisikan sebagai berikut\n",
    "def multiple(x):\n",
    "    return x*2\n",
    "\n",
    "#jika kita buat dalam bentuk fungsi lambda maka menjadi\n",
    "multiple_2 = lambda x: x*2"
   ]
  },
  {
   "cell_type": "code",
   "execution_count": null,
   "id": "27d6a024-6c5c-4429-9cc4-1ebac11b1813",
   "metadata": {
    "id": "27d6a024-6c5c-4429-9cc4-1ebac11b1813",
    "outputId": "7c416e68-ffba-47cb-e23d-5f8873dbdcd0",
    "slideshow": {
     "slide_type": "subslide"
    }
   },
   "outputs": [],
   "source": [
    "multiple(4)"
   ]
  },
  {
   "cell_type": "code",
   "execution_count": null,
   "id": "4a458ded-4025-4fca-a8f0-d1106b3a0648",
   "metadata": {
    "id": "4a458ded-4025-4fca-a8f0-d1106b3a0648",
    "outputId": "1652cf33-4c96-4b80-eef3-06b7a98dbadd",
    "slideshow": {
     "slide_type": "subslide"
    }
   },
   "outputs": [],
   "source": [
    "multiple_2(4)"
   ]
  },
  {
   "cell_type": "code",
   "execution_count": null,
   "id": "e516e537-4f62-49e4-a5df-dbc21c57e248",
   "metadata": {
    "id": "e516e537-4f62-49e4-a5df-dbc21c57e248",
    "outputId": "f18985d5-2692-4941-cc9c-08c837c09654",
    "slideshow": {
     "slide_type": "subslide"
    }
   },
   "outputs": [],
   "source": [
    "#contoh lainnya\n",
    "add = lambda x, y: x + y\n",
    "add(1,2)"
   ]
  },
  {
   "cell_type": "code",
   "execution_count": null,
   "id": "5e003012-b591-4fec-b262-133aeaa5323f",
   "metadata": {
    "id": "5e003012-b591-4fec-b262-133aeaa5323f",
    "slideshow": {
     "slide_type": "subslide"
    }
   },
   "outputs": [],
   "source": [
    "#buatlah fungsi lambda yang menghasilkan output \" Halo Nama Saya XXX\" dengan input nama"
   ]
  },
  {
   "cell_type": "markdown",
   "id": "13d74908-9f2c-46f4-9c6b-0aadd155e3a1",
   "metadata": {
    "id": "13d74908-9f2c-46f4-9c6b-0aadd155e3a1",
    "slideshow": {
     "slide_type": "slide"
    }
   },
   "source": [
    " ## Control flow\n",
    " \n",
    " Beberapa hal dasar yang perlu dipahami:\n",
    " 1. ```if else``` statement.\n",
    " 2. ```for``` loops.\n",
    " 3. ```while``` loops.\n",
    " 4. ```break```, ```continue```, dan ```pass```."
   ]
  },
  {
   "cell_type": "markdown",
   "id": "eb9083c6-e478-4b84-a088-1a12b07c1352",
   "metadata": {
    "id": "eb9083c6-e478-4b84-a088-1a12b07c1352",
    "slideshow": {
     "slide_type": "subslide"
    }
   },
   "source": [
    "### If else statement / conditional\n",
    "\n",
    "> Digunakan untuk mengendalikan kode yang akan dieksekusi dengan memperhatikan pemenuhan terhadap kondisi tertentu.\n",
    "\n",
    "```python\n",
    "\n",
    "if condition1:\n",
    "    # baris dieksekusi jika condition1 terpenuhi\n",
    "elif condition2:\n",
    "    # baris dieksekusi jika condition2 terpenuhi\n",
    "else:\n",
    "    # baris dieksekusi jika condition1 & condition2 tidak terpenuhi\n",
    "\n",
    "\n",
    "```"
   ]
  },
  {
   "cell_type": "code",
   "execution_count": null,
   "id": "74367d64-af3c-41ba-ac6a-79a2f64a5c88",
   "metadata": {
    "id": "74367d64-af3c-41ba-ac6a-79a2f64a5c88",
    "outputId": "51555dd0-879f-4e5b-8456-7bc1d80195b7",
    "slideshow": {
     "slide_type": "subslide"
    }
   },
   "outputs": [],
   "source": [
    "# kita akan membuat variable A\n",
    "# kita akan membuat variable B\n",
    "A = 200\n",
    "B = 33\n",
    "\n",
    "# kita akan mencoba membuat kondisi atas value pada variable A dan B\n",
    "# kondisi 1\n",
    "# jika nilai B > dari A, maka print B is greater than A\n",
    "if B > A:\n",
    "  print(\"B is greater than A\")\n",
    "# kondisi 2\n",
    "# jika B == A, maka print B and A are equal\n",
    "elif B == A:\n",
    "  print(\"B and A are equal\")\n",
    "# kondisi else, diluar kondisi 1 dan 2\n",
    "# jika dua kondisi sebelumnya tidak terpenuhi, maka print A is greater than B\n",
    "else:\n",
    "  print(\"A is greater than B\")"
   ]
  },
  {
   "cell_type": "markdown",
   "id": "e3d6b8ff",
   "metadata": {
    "id": "e3d6b8ff",
    "slideshow": {
     "slide_type": "subslide"
    }
   },
   "source": [
    "<details>\n",
    "<img src=\"https://i.postimg.cc/J0j4HHdb/if-else.png\" width=\"800\">\n",
    "</details>"
   ]
  },
  {
   "cell_type": "markdown",
   "id": "fc4f1417-b887-478b-bdba-a0130fcbef03",
   "metadata": {
    "id": "fc4f1417-b887-478b-bdba-a0130fcbef03",
    "slideshow": {
     "slide_type": "slide"
    }
   },
   "source": [
    "### For loops\n",
    "\n",
    "> Digunakan untuk mengeksekusi sebuah blok kode secara berulang berdasarkan sebuah iterable.\n",
    "\n",
    "```python\n",
    "for i in iterable:\n",
    "    # baris dieksekusi pada setiap loop\n",
    "```\n",
    "\n",
    "Iterable dapat berupa list, tuple, set, dictionary, string, maupun range. Kita bisa gunakan range untuk menghasilkan urutan angka secara otomatis dengan format berikut:\n",
    "\n",
    "```range(start, finish, steps)``` seperti pada saat list slicing."
   ]
  },
  {
   "cell_type": "code",
   "execution_count": null,
   "id": "0b75eadf-0424-4e31-b023-70ff39d2a4a9",
   "metadata": {
    "id": "0b75eadf-0424-4e31-b023-70ff39d2a4a9",
    "outputId": "b1ab7659-bf1b-4cd7-b934-dbfcf09af8a2",
    "slideshow": {
     "slide_type": "subslide"
    }
   },
   "outputs": [],
   "source": [
    "# kita akan mencoba membuat for loops menggunakan range:\n",
    "for i in range(1,11,2):   # > kita akan melihat i (ini merupakan element dalam range), start = 1, finish = 11, steps = 2\n",
    "    print(i)              # > print seluruh i yang memenuhi kriteria dalam range diatas"
   ]
  },
  {
   "cell_type": "code",
   "execution_count": null,
   "id": "89499c94-6c5e-4d8e-850c-5987573f3cc1",
   "metadata": {
    "colab": {
     "base_uri": "https://localhost:8080/"
    },
    "id": "89499c94-6c5e-4d8e-850c-5987573f3cc1",
    "outputId": "44c0b211-cc3f-46c8-8e97-fd0817d3d9d7",
    "slideshow": {
     "slide_type": "subslide"
    }
   },
   "outputs": [],
   "source": [
    "# kita akan mencoba membuat for loops dengan melakukan iterasi dalam list\n",
    "# membuat variable list berisi nama\n",
    "names = [\"Alice\", \"Bob\", \"Charlie\"]\n",
    "\n",
    "for name in names:                   # > setiap nama di list names\n",
    "    print(\"Hello, \" + name + \"!\")    # > print nama-nama tersebut dengan format Hello, nama!, perhatikan spasi yang digunakan"
   ]
  },
  {
   "cell_type": "code",
   "execution_count": null,
   "id": "FM3pq_8nVvgd",
   "metadata": {
    "colab": {
     "base_uri": "https://localhost:8080/"
    },
    "id": "FM3pq_8nVvgd",
    "outputId": "684a2f5c-c35e-4d67-93fa-fb4cfd801150",
    "slideshow": {
     "slide_type": "subslide"
    }
   },
   "outputs": [],
   "source": [
    "# List comprehension\n",
    "# newlist = [expression for member in iterable if condition == True]\n",
    "\n",
    "new_names = [x for x in names if 'o' not in x]\n",
    "print(new_names)"
   ]
  },
  {
   "cell_type": "code",
   "execution_count": null,
   "id": "AIoaoLA5cTY2",
   "metadata": {
    "colab": {
     "base_uri": "https://localhost:8080/"
    },
    "id": "AIoaoLA5cTY2",
    "outputId": "494eade5-2692-4125-e1c3-1c21242a470c",
    "slideshow": {
     "slide_type": "subslide"
    }
   },
   "outputs": [],
   "source": [
    "# contoh lainnya, membuat list dengan for loops\n",
    "squares = []\n",
    "for i in range(10):\n",
    "    squares.append(i * i)\n",
    "squares"
   ]
  },
  {
   "cell_type": "code",
   "execution_count": null,
   "id": "GjSX5fXIcb_u",
   "metadata": {
    "colab": {
     "base_uri": "https://localhost:8080/"
    },
    "id": "GjSX5fXIcb_u",
    "outputId": "ec46ec29-fe10-4eae-ef85-36cca7016070",
    "slideshow": {
     "slide_type": "subslide"
    }
   },
   "outputs": [],
   "source": [
    "# membuat list dengan list comprehension\n",
    "squares = [i * i for i in range(10)]\n",
    "squares"
   ]
  },
  {
   "cell_type": "markdown",
   "id": "e9633b4d",
   "metadata": {
    "id": "e9633b4d",
    "slideshow": {
     "slide_type": "subslide"
    }
   },
   "source": [
    "<details>\n",
    "<img src=\"https://i.postimg.cc/k56gxH2N/for.png\" width=\"800\">\n",
    "</details>"
   ]
  },
  {
   "cell_type": "markdown",
   "id": "dcde102e-34f2-4bed-9400-641549309b5e",
   "metadata": {
    "id": "dcde102e-34f2-4bed-9400-641549309b5e",
    "slideshow": {
     "slide_type": "slide"
    }
   },
   "source": [
    "### While loops\n",
    "\n",
    "> Digunakan untuk mengeksekusi sebuah blok kode secara berulang berdasarkan sebuah kondisi tertentu yang ditetapkan selama kondisi terpenuhi.\n",
    "\n",
    "```python\n",
    "while condition:\n",
    "    # baris dieksekusi jika condition == True    \n",
    "```\n",
    "Kesalahan dalam membuat kode while dapat membuat loop berjalan terus-menerus."
   ]
  },
  {
   "cell_type": "code",
   "execution_count": null,
   "id": "b679d0a6-a0c3-452a-8714-68367e9625f8",
   "metadata": {
    "id": "b679d0a6-a0c3-452a-8714-68367e9625f8",
    "outputId": "291b7e7c-9ede-4939-9db2-a5cda561037a",
    "slideshow": {
     "slide_type": "subslide"
    }
   },
   "outputs": [],
   "source": [
    "# kita akan mencoba membuat while loops dengan kondisi, i < 5\n",
    "# i kita tetapkan valuenya = 0\n",
    "# setiap kali dia terpenuhi maka print(i)\n",
    "# perhatikan maksud dari i += 1\n",
    "i = 0 \n",
    "while i < 5 : \n",
    "    print(i)\n",
    "    i += 1         # >  jika kode semacam ini tidak diberikan, maka kondisi akan selalu True!"
   ]
  },
  {
   "cell_type": "markdown",
   "id": "9e5c04b3",
   "metadata": {
    "id": "9e5c04b3",
    "slideshow": {
     "slide_type": "subslide"
    }
   },
   "source": [
    "<details>\n",
    "<img src=\"https://i.postimg.cc/sD4kN4kk/while.png\" width=\"800\">\n",
    "</details>"
   ]
  },
  {
   "cell_type": "markdown",
   "id": "f9689c8a-20af-4b01-a29e-fb27bb7a2a7a",
   "metadata": {
    "id": "f9689c8a-20af-4b01-a29e-fb27bb7a2a7a",
    "slideshow": {
     "slide_type": "slide"
    }
   },
   "source": [
    "### Break, continue dan pass\n",
    "\n",
    "**Break statement:**\n",
    "> menghentikan loop saat ini. Gunakan pernyataan break untuk keluar dari loop secara instan.\n",
    "<details>\n",
    "    \n",
    "<img src=\"https://pynative.com/wp-content/uploads/2021/06/break-loop-in-python.png\">\n",
    "\n",
    "</details>\n",
    "\n",
    "**Continue statement:**\n",
    "> Lewati iterasi loop saat ini dan pindah ke iterasi berikutnya\n",
    "<details>\n",
    "    \n",
    "<img src=\"https://pynative.com/wp-content/uploads/2021/06/python-continue-statement-in-loop.png\">\n",
    "    \n",
    "</details>\n",
    "\n",
    "**Pass statement:**\n",
    "> Tidak melakukan apapun. Abaikan kondisi di mana itu terjadi dan lanjutkan untuk menjalankan program seperti biasa\n",
    "\n",
    "sumber : https://pynative.com/python-break-continue-pass/"
   ]
  },
  {
   "cell_type": "code",
   "execution_count": null,
   "id": "8ba052bd-eb9b-4135-9647-5664f5412566",
   "metadata": {
    "colab": {
     "base_uri": "https://localhost:8080/"
    },
    "id": "8ba052bd-eb9b-4135-9647-5664f5412566",
    "outputId": "2cc619ee-67ff-40dd-c36c-2b9994d95750",
    "slideshow": {
     "slide_type": "subslide"
    }
   },
   "outputs": [],
   "source": [
    "# kita akan mencoba break statement\n",
    "# membuat variable kota\n",
    "kota = 'jakarta'\n",
    "\n",
    "# implementasi menggunakan for loops\n",
    "# atas setiap huruf di variable kota\n",
    "for huruf in kota: \n",
    "    print(huruf) \n",
    "    # break saat menemukan huruf 'r'  \n",
    "    if huruf == 'r':\n",
    "        break\n",
    "    print(\"belum ketemu 'r'\")\n",
    "# menunjukkan kapan terjadinya break\n",
    "print(\"Sudah ketemu!\") \n",
    "\n",
    "# dapat dilihat dari interaksi yang terjadi, saat menemukan huruf 'r'\n",
    "# seketika itu for loops yang dibangun berhenti"
   ]
  },
  {
   "cell_type": "code",
   "execution_count": null,
   "id": "527cb429-22b9-4ba5-98e2-774ec628f67e",
   "metadata": {
    "id": "527cb429-22b9-4ba5-98e2-774ec628f67e",
    "outputId": "60ce8827-0941-4a60-9b86-faf255948941",
    "scrolled": true,
    "slideshow": {
     "slide_type": "subslide"
    }
   },
   "outputs": [],
   "source": [
    "# kita akan mencoba continue statement\n",
    "# menggunakan for loops\n",
    "# atas setiap value dalam range start = 1, finish = 11\n",
    "for i in range(1, 11): \n",
    "    # jika value sama dengan 6,   \n",
    "    # continue iterasinya   \n",
    "    # tanpa melakukan print \n",
    "    if i == 6: \n",
    "        continue\n",
    "    else: \n",
    "        # diluar if statement, print i ditambahkan spasi\n",
    "        print(i, end = \"\\n\")"
   ]
  },
  {
   "cell_type": "code",
   "execution_count": null,
   "id": "19bbe06e-325f-4b4b-98bc-bb7ee4f3809b",
   "metadata": {
    "id": "19bbe06e-325f-4b4b-98bc-bb7ee4f3809b",
    "outputId": "9d163cc3-27fc-4fe6-e4fb-51ff0ec0ffd4",
    "slideshow": {
     "slide_type": "subslide"
    }
   },
   "outputs": [],
   "source": [
    "# kita akan mencoba membuat pass statement\n",
    "# menggunakan variable s sebelumnya\n",
    "# menggunakan for loops\n",
    "# atas setiap value pada variable s\n",
    "for huruf in kota:\n",
    "    # jika value sama dengan 'a', print 'Pass executed'\n",
    "    if huruf == 'a':\n",
    "        print('Pass executed')\n",
    "        # kemudian pass\n",
    "        pass\n",
    "    print(huruf)\n",
    "# dapat dilihat bahwa print seluruh value pada variable kota tetap berlangsung"
   ]
  },
  {
   "cell_type": "code",
   "execution_count": null,
   "id": "a8e84917",
   "metadata": {
    "id": "a8e84917",
    "slideshow": {
     "slide_type": "subslide"
    }
   },
   "outputs": [],
   "source": [
    "# Correct:\n",
    "import os\n",
    "import sys\n",
    "\n",
    "# Wrong:\n",
    "import sys, os\n",
    "\n",
    "# Correct:\n",
    "from subprocess import Popen, PIPE\n",
    "\n"
   ]
  },
  {
   "cell_type": "code",
   "execution_count": null,
   "id": "dFNo45P_eAqI",
   "metadata": {
    "id": "dFNo45P_eAqI",
    "slideshow": {
     "slide_type": "subslide"
    }
   },
   "outputs": [],
   "source": []
  },
  {
   "cell_type": "markdown",
   "id": "bK4M3bN_eBwB",
   "metadata": {
    "id": "bK4M3bN_eBwB",
    "slideshow": {
     "slide_type": "slide"
    }
   },
   "source": [
    "<details>\n",
    "  <summary>Assign Values to Multiple Variables</summary)"
   ]
  },
  {
   "cell_type": "code",
   "execution_count": null,
   "id": "Bir7Ga9MeQQV",
   "metadata": {
    "colab": {
     "base_uri": "https://localhost:8080/"
    },
    "id": "Bir7Ga9MeQQV",
    "outputId": "deea56f4-e895-41dd-ee60-bbd71044702b",
    "slideshow": {
     "slide_type": "subslide"
    }
   },
   "outputs": [],
   "source": [
    "x, y, z = \"Orange\", \"Banana\", \"Cherry\"\n",
    "print(x)\n",
    "print(y)\n",
    "print(z)"
   ]
  },
  {
   "cell_type": "code",
   "execution_count": null,
   "id": "bhsMu9eveV0b",
   "metadata": {
    "colab": {
     "base_uri": "https://localhost:8080/"
    },
    "id": "bhsMu9eveV0b",
    "outputId": "bd46a73d-f419-44d5-8257-8bf189cef17a",
    "slideshow": {
     "slide_type": "subslide"
    }
   },
   "outputs": [],
   "source": [
    "x = y = z = \"Orange\"\n",
    "print(x)\n",
    "print(y)\n",
    "print(z)"
   ]
  },
  {
   "cell_type": "markdown",
   "id": "XpI_MYjxRfAL",
   "metadata": {
    "id": "XpI_MYjxRfAL",
    "slideshow": {
     "slide_type": "notes"
    }
   },
   "source": [
    "<details>\n",
    "  <summary>Tanpa virtual environment</summary>\n",
    "<img src=\"https://user-images.githubusercontent.com/78694043/145010290-2eeabc7a-d22b-4b5b-ad98-5bebc5ae8b46.png\">\n",
    "</details>\n",
    "\n",
    "<details>\n",
    "  <summary>Dengan virtual environment</summary>\n",
    "<img src=\"https://user-images.githubusercontent.com/78694043/145010310-aadd8463-100e-495a-ad26-61fc7c03b502.png\">\n",
    "</details>\n",
    "\n",
    "<details>\n",
    "  <summary>Pemakaian virtual environment</summary>\n",
    "<img src=\"https://user-images.githubusercontent.com/78694043/145010188-0e11d33a-521f-4684-894b-fc0669820b34.png\">\n",
    "</details>\n",
    "\n",
    "Sumber:\n",
    "[Python Virtual Environments tutorial using Virtualenv and Poetry](https://serpapi.com/blog/python-virtual-environments-using-virtualenv-and-poetry/)"
   ]
  },
  {
   "cell_type": "markdown",
   "id": "kYxWhBDRvFup",
   "metadata": {
    "id": "kYxWhBDRvFup",
    "jp-MarkdownHeadingCollapsed": true,
    "slideshow": {
     "slide_type": "slide"
    },
    "tags": []
   },
   "source": [
    "# **Latihan Mandiri**"
   ]
  },
  {
   "cell_type": "markdown",
   "id": "nkhiC2vlTFv_",
   "metadata": {
    "id": "nkhiC2vlTFv_",
    "slideshow": {
     "slide_type": "subslide"
    }
   },
   "source": [
    "1. [Computer Science Circles](https://cscircles.cemc.uwaterloo.ca)\n",
    "2. [Learn Python on the Go - Begin your Python Journey with the ease of your phone](https://www.programiz.com/learn-python)"
   ]
  }
 ],
 "metadata": {
  "celltoolbar": "Slideshow",
  "colab": {
   "collapsed_sections": [
    "be84989e-7bf0-41ee-86eb-8cbb49fec7c9",
    "62d7acc3-c441-4e36-9f69-ddb354402d19",
    "0d8ea216-5cbe-4e99-a4a3-708e7f4278c6",
    "89ab5faa-42b7-4c6c-8d91-2de0cdc540b6",
    "dc77a295-da1f-40a3-b61b-911857b875ef",
    "3201e288-c0e4-438d-9e4e-bf23eaad005e",
    "0b624327",
    "3181ee3e-2d4d-4ec2-82fd-b3cdd88b3177",
    "08e7da49-82c6-4d49-a1b0-b5337457bb70",
    "b024b6be-338f-40e5-a104-6cb23d29d7df",
    "77849af1-b9f7-4a00-bcc7-5f43e55acb72",
    "63b67f4d-42c9-4d7b-9c59-9608ca0c8fb7",
    "9f9f15d1-1a3a-45c3-87dd-e205af0d3778",
    "byVgLqCxFKgy"
   ],
   "provenance": []
  },
  "kernelspec": {
   "display_name": "Python 3 (ipykernel)",
   "language": "python",
   "name": "python3"
  },
  "language_info": {
   "codemirror_mode": {
    "name": "ipython",
    "version": 3
   },
   "file_extension": ".py",
   "mimetype": "text/x-python",
   "name": "python",
   "nbconvert_exporter": "python",
   "pygments_lexer": "ipython3",
   "version": "3.8.15"
  },
  "toc": {
   "base_numbering": 1,
   "nav_menu": {},
   "number_sections": true,
   "sideBar": true,
   "skip_h1_title": false,
   "title_cell": "Table of Contents",
   "title_sidebar": "Contents",
   "toc_cell": false,
   "toc_position": {},
   "toc_section_display": true,
   "toc_window_display": true
  },
  "toc-autonumbering": true,
  "toc-showcode": false
 },
 "nbformat": 4,
 "nbformat_minor": 5
}
